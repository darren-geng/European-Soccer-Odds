{
 "cells": [
  {
   "cell_type": "markdown",
   "metadata": {},
   "source": [
    "# Imports\n",
    "Import required libraries"
   ]
  },
  {
   "cell_type": "code",
   "execution_count": 74,
   "metadata": {
    "collapsed": false
   },
   "outputs": [],
   "source": [
    "from __future__ import print_function, division\n",
    "import os\n",
    "import numpy as np\n",
    "import matplotlib.pyplot as plt\n",
    "import seaborn as sns\n",
    "import pandas as pd\n",
    "import numpy as np\n",
    "import sklearn as sklearn\n",
    "from numpy import random\n",
    "import sqlite3\n",
    "%matplotlib inline"
   ]
  },
  {
   "cell_type": "markdown",
   "metadata": {},
   "source": [
    "# 1) Description of the dataset\n",
    "The initial database has four tables: Countries, leagues, teams, team_atts, matches, players, player_atts.\n",
    "\n",
    "Countries - The country_id for each match (which country the match took place in)\n",
    "\n",
    "Leagues - The league_id for each match (as each country only has one league in this set, this is identical to country_id and not needed).\n",
    "\n",
    "Teams - Contains the id, team_api_id, team_fifa_api_id, and name of each team. The team_fifa_api_id is what the id of each team is in the FIFA games (where player/team statistics are pulled from).\n",
    "\n",
    "Team_atts - Contains attributes about each team: their playstyle, offense, defense, etc.\n",
    "\n",
    "Matches - This contains the bulk of the data that we want. Contains information about: who the home/away team are, which league the game took place in, which season, the data, player statistics, and betting data.\n",
    "\n",
    "Players - Contains information about each player: their id, age, team, stature\n",
    "\n",
    "Player_atts - Has information on the attributes of each player: their skills, strengths, weaknesses, but most importantly their player rating.\n",
    "\n",
    "--A side note, teams and players contain both a FIFA and non-FIFA key. Matches are joined to them by non-FIFA key.--"
   ]
  },
  {
   "cell_type": "markdown",
   "metadata": {},
   "source": [
    "We will now read-in the tables from the sqlite database."
   ]
  },
  {
   "cell_type": "code",
   "execution_count": 84,
   "metadata": {
    "collapsed": false
   },
   "outputs": [],
   "source": [
    "with sqlite3.connect('database.sqlite') as con:\n",
    "    countries = pd.read_sql_query(\"SELECT * from Country\", con)\n",
    "    matches = pd.read_sql_query(\"SELECT * from Match\", con)\n",
    "    players = pd.read_sql_query(\"SELECT * from Player\", con)\n",
    "    player_atts = pd.read_sql_query(\"SELECT * from Player_Attributes\", con)\n",
    "    team_atts = pd.read_sql_query(\"SELECT * from Team_Attributes\", con)\n",
    "    teams = pd.read_sql_query(\"SELECT * from Team\", con)\n"
   ]
  },
  {
   "cell_type": "markdown",
   "metadata": {},
   "source": [
    "For now, we will currently only be examining betting data from bet365. Many of the betting sites included in the dataset are missing betting data on a large portion of the matches and bet365 has by far the most.\n",
    "\n",
    "We will also drop attributes that will not be useful for what we want yet; these attributes are generally ingame statistics of the matches in general.\n",
    "\n",
    "`league_id` is also dropped because we are not using the leagues table."
   ]
  },
  {
   "cell_type": "code",
   "execution_count": 85,
   "metadata": {
    "collapsed": false
   },
   "outputs": [],
   "source": [
    "# Drops unneeded attributes\n",
    "atts_to_drop = ['BWH', 'BWD', 'BWA', 'IWH', 'IWD', 'IWA', 'LBH', 'LBD', 'LBA', 'GBD',\n",
    "               'PSH', 'PSD', 'PSA', 'WHH', 'WHA', 'WHD', 'SJH', 'SJD', 'SJA', 'VCH',\n",
    "               'VCD', 'VCA', 'GBH', 'GBA', 'BSH', 'BSD', 'BSA', 'shoton', 'goal', 'shotoff',\n",
    "               'foulcommit', 'card', 'cross', 'corner', 'possession', 'league_id']\n",
    "matches = matches.drop(atts_to_drop, axis=1) \n",
    "\n",
    "# Drops player formation values\n",
    "matches = matches.drop(matches.columns[10:54], axis=1)\n",
    "\n",
    "# Drops null values\n",
    "matches = matches.dropna()\n",
    "\n",
    "# Replace home_team_goal and away_team_goal with home_win (0 = no, 1 = draw, 2 = yes)\n",
    "def find_winner(row):\n",
    "    if row['home_team_goal'] > row['away_team_goal']:\n",
    "        return 2\n",
    "    if row['home_team_goal'] == row['away_team_goal']:\n",
    "        return 1\n",
    "    if row['home_team_goal'] < row['away_team_goal']:\n",
    "        return 0\n",
    "    \n",
    "matches.insert(9, 'match_result', -1)\n",
    "matches['match_result'] = matches.apply(lambda x: find_winner(x), axis = 1)\n",
    "matches = matches.drop(['home_team_goal', 'away_team_goal'], axis = 1)"
   ]
  },
  {
   "cell_type": "code",
   "execution_count": 86,
   "metadata": {
    "collapsed": false
   },
   "outputs": [
    {
     "data": {
      "text/plain": [
       "array(['id', 'country_id', 'season', 'stage', 'date', 'match_api_id',\n",
       "       'home_team_api_id', 'away_team_api_id', 'match_result',\n",
       "       'home_player_1', 'home_player_2', 'home_player_3', 'home_player_4',\n",
       "       'home_player_5', 'home_player_6', 'home_player_7', 'home_player_8',\n",
       "       'home_player_9', 'home_player_10', 'home_player_11',\n",
       "       'away_player_1', 'away_player_2', 'away_player_3', 'away_player_4',\n",
       "       'away_player_5', 'away_player_6', 'away_player_7', 'away_player_8',\n",
       "       'away_player_9', 'away_player_10', 'away_player_11', 'B365H',\n",
       "       'B365D', 'B365A'], dtype=object)"
      ]
     },
     "execution_count": 86,
     "metadata": {},
     "output_type": "execute_result"
    }
   ],
   "source": [
    "matches.columns.values"
   ]
  },
  {
   "cell_type": "code",
   "execution_count": 87,
   "metadata": {
    "collapsed": false
   },
   "outputs": [
    {
     "name": "stdout",
     "output_type": "stream",
     "text": [
      "       id         name\n",
      "0       1      Belgium\n",
      "1    1729      England\n",
      "2    4769       France\n",
      "3    7809      Germany\n",
      "4   10257        Italy\n",
      "5   13274  Netherlands\n",
      "6   15722       Poland\n",
      "7   17642     Portugal\n",
      "8   19694     Scotland\n",
      "9   21518        Spain\n",
      "10  24558  Switzerland\n"
     ]
    }
   ],
   "source": [
    "print(countries)\n",
    "england_matches = matches[(matches['country_id'] == 1729)]\n",
    "france_matches = matches[(matches['country_id'] == 4769)]\n",
    "germany_matches = matches[(matches['country_id'] == 7809)]\n",
    "italy_matches = matches[(matches['country_id'] == 10257)]\n",
    "netherlands_matches = matches[(matches['country_id'] == 13274)]\n",
    "spain_matches = matches[(matches['country_id'] == 21518)]"
   ]
  },
  {
   "cell_type": "markdown",
   "metadata": {},
   "source": [
    "# 3) Visualizing the data-set"
   ]
  },
  {
   "cell_type": "code",
   "execution_count": 39,
   "metadata": {
    "collapsed": false
   },
   "outputs": [
    {
     "data": {
      "text/plain": [
       "array(['id', 'team_fifa_api_id', 'team_api_id', 'date', 'buildUpPlaySpeed',\n",
       "       'buildUpPlaySpeedClass', 'buildUpPlayDribbling',\n",
       "       'buildUpPlayDribblingClass', 'buildUpPlayPassing',\n",
       "       'buildUpPlayPassingClass', 'buildUpPlayPositioningClass',\n",
       "       'chanceCreationPassing', 'chanceCreationPassingClass',\n",
       "       'chanceCreationCrossing', 'chanceCreationCrossingClass',\n",
       "       'chanceCreationShooting', 'chanceCreationShootingClass',\n",
       "       'chanceCreationPositioningClass', 'defencePressure',\n",
       "       'defencePressureClass', 'defenceAggression',\n",
       "       'defenceAggressionClass', 'defenceTeamWidth',\n",
       "       'defenceTeamWidthClass', 'defenceDefenderLineClass'], dtype=object)"
      ]
     },
     "execution_count": 39,
     "metadata": {},
     "output_type": "execute_result"
    }
   ],
   "source": [
    "team_atts.columns.values"
   ]
  },
  {
   "cell_type": "markdown",
   "metadata": {},
   "source": [
    "# 3) Ranking the Leagues by Ease of Prediction\n",
    "Fans of soccer know that certain leagues are easier to predict than others. For example, the Spanish La Liga is notoriously top-heavy, with Real Madrid and Barcelona dominating the league for the last few decades. We will now use "
   ]
  },
  {
   "cell_type": "code",
   "execution_count": null,
   "metadata": {
    "collapsed": true
   },
   "outputs": [],
   "source": []
  }
 ],
 "metadata": {
  "anaconda-cloud": {},
  "kernelspec": {
   "display_name": "Python 2",
   "language": "python",
   "name": "python2"
  },
  "language_info": {
   "codemirror_mode": {
    "name": "ipython",
    "version": 2
   },
   "file_extension": ".py",
   "mimetype": "text/x-python",
   "name": "python",
   "nbconvert_exporter": "python",
   "pygments_lexer": "ipython2",
   "version": "2.7.9"
  }
 },
 "nbformat": 4,
 "nbformat_minor": 0
}
