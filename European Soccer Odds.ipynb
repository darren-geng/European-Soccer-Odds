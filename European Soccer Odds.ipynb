{
 "cells": [
  {
   "cell_type": "markdown",
   "metadata": {},
   "source": [
    "# Imports\n",
    "Imports required libraries"
   ]
  },
  {
   "cell_type": "code",
   "execution_count": 1,
   "metadata": {
    "collapsed": false
   },
   "outputs": [
    {
     "name": "stderr",
     "output_type": "stream",
     "text": [
      "/usr/local/lib/python2.7/site-packages/sklearn/cross_validation.py:44: DeprecationWarning: This module was deprecated in version 0.18 in favor of the model_selection module into which all the refactored classes and functions are moved. Also note that the interface of the new CV iterators are different from that of this module. This module will be removed in 0.20.\n",
      "  \"This module will be removed in 0.20.\", DeprecationWarning)\n"
     ]
    }
   ],
   "source": [
    "from __future__ import print_function, division\n",
    "import os\n",
    "import numpy as np\n",
    "from scipy import stats\n",
    "import matplotlib.pyplot as plt\n",
    "import seaborn as sns\n",
    "import pandas as pd\n",
    "import numpy as np\n",
    "import sklearn as sklearn\n",
    "from datetime import datetime\n",
    "from sklearn.cross_validation import train_test_split, KFold, cross_val_predict\n",
    "from sklearn.linear_model import LinearRegression, LogisticRegression, LogisticRegressionCV\n",
    "from sklearn.metrics import mean_squared_error\n",
    "from sklearn.metrics import mean_absolute_error\n",
    "from sklearn.dummy import DummyClassifier\n",
    "from sklearn.svm import LinearSVC, SVC\n",
    "from sklearn.model_selection import cross_val_score\n",
    "from sklearn.model_selection import cross_val_predict\n",
    "from sklearn.calibration import calibration_curve\n",
    "from sklearn.metrics import roc_curve\n",
    "from sklearn.ensemble import RandomForestClassifier\n",
    "from numpy import random\n",
    "import sqlite3\n",
    "%matplotlib inline"
   ]
  },
  {
   "cell_type": "markdown",
   "metadata": {},
   "source": [
    "# 1) Description of the dataset\n",
    "The initial database has four tables: Countries, leagues, teams, team_atts, matches, players, player_atts.\n",
    "\n",
    "Countries - The country_id for each match (which country the match took place in)\n",
    "\n",
    "Leagues - The league_id for each match (as each country only has one league in this set, this is identical to country_id and not needed).\n",
    "\n",
    "Teams - Contains the id, team_api_id, team_fifa_api_id, and name of each team. The team_fifa_api_id is what the id of each team is in the FIFA games (where player/team statistics are pulled from).\n",
    "\n",
    "Team_atts - Contains attributes about each team: their playstyle, offense, defense, etc.\n",
    "\n",
    "Matches - This contains the bulk of the data that we want. Contains information about: who the home/away team are, which league the game took place in, which season, the data, player statistics, and betting data.\n",
    "\n",
    "Players - Contains information about each player: their id, age, team, stature\n",
    "\n",
    "Player_atts - Has information on the attributes of each player: their skills, strengths, weaknesses, but most importantly their player rating.\n",
    "\n",
    "--A side note, teams and players contain both a FIFA and non-FIFA key. Matches are joined to them by non-FIFA key.--"
   ]
  },
  {
   "cell_type": "markdown",
   "metadata": {},
   "source": [
    "We will now read-in the tables from the sqlite database."
   ]
  },
  {
   "cell_type": "code",
   "execution_count": 2,
   "metadata": {
    "collapsed": false
   },
   "outputs": [],
   "source": [
    "with sqlite3.connect('database.sqlite') as con:\n",
    "    countries = pd.read_sql_query(\"SELECT * from Country\", con)\n",
    "    matches = pd.read_sql_query(\"SELECT * from Match\", con)\n",
    "    players = pd.read_sql_query(\"SELECT * from Player\", con)\n",
    "    player_atts = pd.read_sql_query(\"SELECT * from Player_Attributes\", con)\n",
    "    team_atts = pd.read_sql_query(\"SELECT * from Team_Attributes\", con)\n",
    "    teams = pd.read_sql_query(\"SELECT * from Team\", con)\n"
   ]
  },
  {
   "cell_type": "markdown",
   "metadata": {},
   "source": [
    "For now, we will currently only be examining betting data from bet365. Many of the betting sites included in the dataset are missing betting data on a large portion of the matches and bet365 has by far the most.\n",
    "\n",
    "We will also drop attributes that will not be useful for what we want yet; these attributes are generally ingame statistics of the matches in general.\n",
    "\n",
    "`league_id` is also dropped because we are not using the leagues table."
   ]
  },
  {
   "cell_type": "code",
   "execution_count": 3,
   "metadata": {
    "collapsed": false
   },
   "outputs": [],
   "source": [
    "# Drops unneeded attributes\n",
    "atts_to_drop = ['BWH', 'BWD', 'BWA', 'IWH', 'IWD', 'IWA', 'LBH', 'LBD', 'LBA', 'GBD',\n",
    "               'PSH', 'PSD', 'PSA', 'WHH', 'WHA', 'WHD', 'SJH', 'SJD', 'SJA', 'VCH',\n",
    "               'VCD', 'VCA', 'GBH', 'GBA', 'BSH', 'BSD', 'BSA', 'shoton', 'goal', 'shotoff',\n",
    "               'foulcommit', 'card', 'cross', 'corner', 'possession', 'league_id']\n",
    "matches = matches.drop(atts_to_drop, axis=1) \n",
    "# Drops player formation values\n",
    "matches = matches.drop(matches.columns[10:54], axis=1)\n",
    "\n",
    "# Drops null values\n",
    "matches = matches.dropna()\n",
    "players = players.dropna()\n",
    "player_atts = player_atts.dropna(subset = ['date', 'overall_rating', 'player_api_id'], axis = 0)\n",
    "team_atts = team_atts.dropna()\n",
    "\n"
   ]
  },
  {
   "cell_type": "markdown",
   "metadata": {},
   "source": [
    "Convert dates into datetime objects"
   ]
  },
  {
   "cell_type": "code",
   "execution_count": 4,
   "metadata": {
    "collapsed": false
   },
   "outputs": [],
   "source": [
    "matches['date'] = matches['date'].apply(lambda x: datetime.strptime(x, '%Y-%m-%d %X'))\n",
    "player_atts['date'] = player_atts['date'].apply(lambda x: datetime.strptime(x, '%Y-%m-%d %X'))"
   ]
  },
  {
   "cell_type": "markdown",
   "metadata": {},
   "source": [
    "We will now replace `home_player_*` and `away_player_*` (player IDs) with their player ratings."
   ]
  },
  {
   "cell_type": "code",
   "execution_count": 5,
   "metadata": {
    "collapsed": false
   },
   "outputs": [
    {
     "data": {
      "text/html": [
       "<div>\n",
       "<table border=\"1\" class=\"dataframe\">\n",
       "  <thead>\n",
       "    <tr style=\"text-align: right;\">\n",
       "      <th></th>\n",
       "      <th>id</th>\n",
       "      <th>country_id</th>\n",
       "      <th>season</th>\n",
       "      <th>stage</th>\n",
       "      <th>date</th>\n",
       "      <th>match_api_id</th>\n",
       "      <th>home_team_api_id</th>\n",
       "      <th>away_team_api_id</th>\n",
       "      <th>home_team_goal</th>\n",
       "      <th>away_team_goal</th>\n",
       "      <th>...</th>\n",
       "      <th>away_player_5</th>\n",
       "      <th>away_player_6</th>\n",
       "      <th>away_player_7</th>\n",
       "      <th>away_player_8</th>\n",
       "      <th>away_player_9</th>\n",
       "      <th>away_player_10</th>\n",
       "      <th>away_player_11</th>\n",
       "      <th>B365H</th>\n",
       "      <th>B365D</th>\n",
       "      <th>B365A</th>\n",
       "    </tr>\n",
       "  </thead>\n",
       "  <tbody>\n",
       "    <tr>\n",
       "      <th>145</th>\n",
       "      <td>146</td>\n",
       "      <td>1</td>\n",
       "      <td>2008/2009</td>\n",
       "      <td>24</td>\n",
       "      <td>2009-02-27</td>\n",
       "      <td>493017</td>\n",
       "      <td>8203</td>\n",
       "      <td>9987</td>\n",
       "      <td>2</td>\n",
       "      <td>1</td>\n",
       "      <td>...</td>\n",
       "      <td>54.0</td>\n",
       "      <td>72.0</td>\n",
       "      <td>67.0</td>\n",
       "      <td>65.0</td>\n",
       "      <td>70.0</td>\n",
       "      <td>68.0</td>\n",
       "      <td>63.0</td>\n",
       "      <td>3.00</td>\n",
       "      <td>3.4</td>\n",
       "      <td>2.30</td>\n",
       "    </tr>\n",
       "    <tr>\n",
       "      <th>153</th>\n",
       "      <td>154</td>\n",
       "      <td>1</td>\n",
       "      <td>2008/2009</td>\n",
       "      <td>25</td>\n",
       "      <td>2009-03-08</td>\n",
       "      <td>493025</td>\n",
       "      <td>9984</td>\n",
       "      <td>8342</td>\n",
       "      <td>1</td>\n",
       "      <td>3</td>\n",
       "      <td>...</td>\n",
       "      <td>66.0</td>\n",
       "      <td>70.0</td>\n",
       "      <td>69.0</td>\n",
       "      <td>68.0</td>\n",
       "      <td>67.0</td>\n",
       "      <td>73.0</td>\n",
       "      <td>68.0</td>\n",
       "      <td>2.80</td>\n",
       "      <td>3.2</td>\n",
       "      <td>2.37</td>\n",
       "    </tr>\n",
       "    <tr>\n",
       "      <th>155</th>\n",
       "      <td>156</td>\n",
       "      <td>1</td>\n",
       "      <td>2008/2009</td>\n",
       "      <td>25</td>\n",
       "      <td>2009-03-07</td>\n",
       "      <td>493027</td>\n",
       "      <td>8635</td>\n",
       "      <td>10000</td>\n",
       "      <td>2</td>\n",
       "      <td>0</td>\n",
       "      <td>...</td>\n",
       "      <td>49.0</td>\n",
       "      <td>64.0</td>\n",
       "      <td>69.0</td>\n",
       "      <td>66.0</td>\n",
       "      <td>55.0</td>\n",
       "      <td>58.0</td>\n",
       "      <td>64.0</td>\n",
       "      <td>1.40</td>\n",
       "      <td>4.5</td>\n",
       "      <td>8.00</td>\n",
       "    </tr>\n",
       "    <tr>\n",
       "      <th>162</th>\n",
       "      <td>163</td>\n",
       "      <td>1</td>\n",
       "      <td>2008/2009</td>\n",
       "      <td>26</td>\n",
       "      <td>2009-03-13</td>\n",
       "      <td>493034</td>\n",
       "      <td>8203</td>\n",
       "      <td>8635</td>\n",
       "      <td>2</td>\n",
       "      <td>1</td>\n",
       "      <td>...</td>\n",
       "      <td>67.0</td>\n",
       "      <td>75.0</td>\n",
       "      <td>70.0</td>\n",
       "      <td>77.0</td>\n",
       "      <td>74.0</td>\n",
       "      <td>70.0</td>\n",
       "      <td>69.0</td>\n",
       "      <td>4.50</td>\n",
       "      <td>3.6</td>\n",
       "      <td>1.75</td>\n",
       "    </tr>\n",
       "    <tr>\n",
       "      <th>168</th>\n",
       "      <td>169</td>\n",
       "      <td>1</td>\n",
       "      <td>2008/2009</td>\n",
       "      <td>26</td>\n",
       "      <td>2009-03-14</td>\n",
       "      <td>493040</td>\n",
       "      <td>10000</td>\n",
       "      <td>9999</td>\n",
       "      <td>0</td>\n",
       "      <td>0</td>\n",
       "      <td>...</td>\n",
       "      <td>60.0</td>\n",
       "      <td>58.0</td>\n",
       "      <td>65.0</td>\n",
       "      <td>60.0</td>\n",
       "      <td>60.0</td>\n",
       "      <td>63.0</td>\n",
       "      <td>65.0</td>\n",
       "      <td>1.75</td>\n",
       "      <td>3.5</td>\n",
       "      <td>4.75</td>\n",
       "    </tr>\n",
       "  </tbody>\n",
       "</table>\n",
       "<p>5 rows × 35 columns</p>\n",
       "</div>"
      ],
      "text/plain": [
       "      id  country_id     season  stage       date  match_api_id  \\\n",
       "145  146           1  2008/2009     24 2009-02-27        493017   \n",
       "153  154           1  2008/2009     25 2009-03-08        493025   \n",
       "155  156           1  2008/2009     25 2009-03-07        493027   \n",
       "162  163           1  2008/2009     26 2009-03-13        493034   \n",
       "168  169           1  2008/2009     26 2009-03-14        493040   \n",
       "\n",
       "     home_team_api_id  away_team_api_id  home_team_goal  away_team_goal  \\\n",
       "145              8203              9987               2               1   \n",
       "153              9984              8342               1               3   \n",
       "155              8635             10000               2               0   \n",
       "162              8203              8635               2               1   \n",
       "168             10000              9999               0               0   \n",
       "\n",
       "     ...    away_player_5  away_player_6  away_player_7  away_player_8  \\\n",
       "145  ...             54.0           72.0           67.0           65.0   \n",
       "153  ...             66.0           70.0           69.0           68.0   \n",
       "155  ...             49.0           64.0           69.0           66.0   \n",
       "162  ...             67.0           75.0           70.0           77.0   \n",
       "168  ...             60.0           58.0           65.0           60.0   \n",
       "\n",
       "     away_player_9  away_player_10  away_player_11  B365H  B365D  B365A  \n",
       "145           70.0            68.0            63.0   3.00    3.4   2.30  \n",
       "153           67.0            73.0            68.0   2.80    3.2   2.37  \n",
       "155           55.0            58.0            64.0   1.40    4.5   8.00  \n",
       "162           74.0            70.0            69.0   4.50    3.6   1.75  \n",
       "168           60.0            63.0            65.0   1.75    3.5   4.75  \n",
       "\n",
       "[5 rows x 35 columns]"
      ]
     },
     "execution_count": 5,
     "metadata": {},
     "output_type": "execute_result"
    }
   ],
   "source": [
    "h_a_players = ['home_player_1', 'home_player_2', 'home_player_3', 'home_player_4', 'home_player_5',\n",
    "          'home_player_6', 'home_player_7', 'home_player_8', 'home_player_9', 'home_player_10', 'home_player_11',\n",
    "          'away_player_1', 'away_player_2', 'away_player_3', 'away_player_4', 'away_player_5', 'away_player_6',\n",
    "          'away_player_7', 'away_player_8', 'away_player_9', 'away_player_10', 'away_player_11']\n",
    "\n",
    "def process_row(row):\n",
    "    matches.loc[row.name, h_a_players] = row[h_a_players].map(lambda x: find_rating_by_date(player_atts.loc[(player_atts['player_api_id'] == x)], row['date']))\n",
    "def find_rating_by_date(rows, date):\n",
    "    nearest_date = nearest(rows['date'], date) #The date we will use for the player ratings\n",
    "    n = rows.loc[rows['date'] == nearest_date]['overall_rating']\n",
    "    return rows.loc[rows['date'] == nearest_date]['overall_rating']\n",
    "def nearest(items, pivot):\n",
    "    return min(items, key=lambda x: abs(x-pivot))\n",
    "matches.apply(lambda x: process_row(x), axis = 1)\n",
    "matches.head(5)"
   ]
  },
  {
   "cell_type": "markdown",
   "metadata": {},
   "source": [
    "Now, convert home_team_api_id and away_team_api_id to their team names."
   ]
  },
  {
   "cell_type": "code",
   "execution_count": 6,
   "metadata": {
    "collapsed": false
   },
   "outputs": [],
   "source": [
    "matches['home_team_api_id'] = matches['home_team_api_id'].map(teams.set_index('team_api_id')['team_long_name'])\n",
    "matches['away_team_api_id'] = matches['away_team_api_id'].map(teams.set_index('team_api_id')['team_long_name'])"
   ]
  },
  {
   "cell_type": "code",
   "execution_count": 7,
   "metadata": {
    "collapsed": false
   },
   "outputs": [
    {
     "data": {
      "text/html": [
       "<div>\n",
       "<table border=\"1\" class=\"dataframe\">\n",
       "  <thead>\n",
       "    <tr style=\"text-align: right;\">\n",
       "      <th></th>\n",
       "      <th>id</th>\n",
       "      <th>country_id</th>\n",
       "      <th>season</th>\n",
       "      <th>stage</th>\n",
       "      <th>date</th>\n",
       "      <th>match_api_id</th>\n",
       "      <th>home_team_api_id</th>\n",
       "      <th>away_team_api_id</th>\n",
       "      <th>home_team_goal</th>\n",
       "      <th>away_team_goal</th>\n",
       "      <th>...</th>\n",
       "      <th>away_player_5</th>\n",
       "      <th>away_player_6</th>\n",
       "      <th>away_player_7</th>\n",
       "      <th>away_player_8</th>\n",
       "      <th>away_player_9</th>\n",
       "      <th>away_player_10</th>\n",
       "      <th>away_player_11</th>\n",
       "      <th>B365H</th>\n",
       "      <th>B365D</th>\n",
       "      <th>B365A</th>\n",
       "    </tr>\n",
       "  </thead>\n",
       "  <tbody>\n",
       "    <tr>\n",
       "      <th>145</th>\n",
       "      <td>146</td>\n",
       "      <td>1</td>\n",
       "      <td>2008/2009</td>\n",
       "      <td>24</td>\n",
       "      <td>2009-02-27</td>\n",
       "      <td>493017</td>\n",
       "      <td>KV Mechelen</td>\n",
       "      <td>KRC Genk</td>\n",
       "      <td>2</td>\n",
       "      <td>1</td>\n",
       "      <td>...</td>\n",
       "      <td>54.0</td>\n",
       "      <td>72.0</td>\n",
       "      <td>67.0</td>\n",
       "      <td>65.0</td>\n",
       "      <td>70.0</td>\n",
       "      <td>68.0</td>\n",
       "      <td>63.0</td>\n",
       "      <td>3.00</td>\n",
       "      <td>3.4</td>\n",
       "      <td>2.30</td>\n",
       "    </tr>\n",
       "    <tr>\n",
       "      <th>153</th>\n",
       "      <td>154</td>\n",
       "      <td>1</td>\n",
       "      <td>2008/2009</td>\n",
       "      <td>25</td>\n",
       "      <td>2009-03-08</td>\n",
       "      <td>493025</td>\n",
       "      <td>KSV Cercle Brugge</td>\n",
       "      <td>Club Brugge KV</td>\n",
       "      <td>1</td>\n",
       "      <td>3</td>\n",
       "      <td>...</td>\n",
       "      <td>66.0</td>\n",
       "      <td>70.0</td>\n",
       "      <td>69.0</td>\n",
       "      <td>68.0</td>\n",
       "      <td>67.0</td>\n",
       "      <td>73.0</td>\n",
       "      <td>68.0</td>\n",
       "      <td>2.80</td>\n",
       "      <td>3.2</td>\n",
       "      <td>2.37</td>\n",
       "    </tr>\n",
       "    <tr>\n",
       "      <th>155</th>\n",
       "      <td>156</td>\n",
       "      <td>1</td>\n",
       "      <td>2008/2009</td>\n",
       "      <td>25</td>\n",
       "      <td>2009-03-07</td>\n",
       "      <td>493027</td>\n",
       "      <td>RSC Anderlecht</td>\n",
       "      <td>SV Zulte-Waregem</td>\n",
       "      <td>2</td>\n",
       "      <td>0</td>\n",
       "      <td>...</td>\n",
       "      <td>49.0</td>\n",
       "      <td>64.0</td>\n",
       "      <td>69.0</td>\n",
       "      <td>66.0</td>\n",
       "      <td>55.0</td>\n",
       "      <td>58.0</td>\n",
       "      <td>64.0</td>\n",
       "      <td>1.40</td>\n",
       "      <td>4.5</td>\n",
       "      <td>8.00</td>\n",
       "    </tr>\n",
       "    <tr>\n",
       "      <th>162</th>\n",
       "      <td>163</td>\n",
       "      <td>1</td>\n",
       "      <td>2008/2009</td>\n",
       "      <td>26</td>\n",
       "      <td>2009-03-13</td>\n",
       "      <td>493034</td>\n",
       "      <td>KV Mechelen</td>\n",
       "      <td>RSC Anderlecht</td>\n",
       "      <td>2</td>\n",
       "      <td>1</td>\n",
       "      <td>...</td>\n",
       "      <td>67.0</td>\n",
       "      <td>75.0</td>\n",
       "      <td>70.0</td>\n",
       "      <td>77.0</td>\n",
       "      <td>74.0</td>\n",
       "      <td>70.0</td>\n",
       "      <td>69.0</td>\n",
       "      <td>4.50</td>\n",
       "      <td>3.6</td>\n",
       "      <td>1.75</td>\n",
       "    </tr>\n",
       "    <tr>\n",
       "      <th>168</th>\n",
       "      <td>169</td>\n",
       "      <td>1</td>\n",
       "      <td>2008/2009</td>\n",
       "      <td>26</td>\n",
       "      <td>2009-03-14</td>\n",
       "      <td>493040</td>\n",
       "      <td>SV Zulte-Waregem</td>\n",
       "      <td>KSV Roeselare</td>\n",
       "      <td>0</td>\n",
       "      <td>0</td>\n",
       "      <td>...</td>\n",
       "      <td>60.0</td>\n",
       "      <td>58.0</td>\n",
       "      <td>65.0</td>\n",
       "      <td>60.0</td>\n",
       "      <td>60.0</td>\n",
       "      <td>63.0</td>\n",
       "      <td>65.0</td>\n",
       "      <td>1.75</td>\n",
       "      <td>3.5</td>\n",
       "      <td>4.75</td>\n",
       "    </tr>\n",
       "  </tbody>\n",
       "</table>\n",
       "<p>5 rows × 35 columns</p>\n",
       "</div>"
      ],
      "text/plain": [
       "      id  country_id     season  stage       date  match_api_id  \\\n",
       "145  146           1  2008/2009     24 2009-02-27        493017   \n",
       "153  154           1  2008/2009     25 2009-03-08        493025   \n",
       "155  156           1  2008/2009     25 2009-03-07        493027   \n",
       "162  163           1  2008/2009     26 2009-03-13        493034   \n",
       "168  169           1  2008/2009     26 2009-03-14        493040   \n",
       "\n",
       "      home_team_api_id  away_team_api_id  home_team_goal  away_team_goal  \\\n",
       "145        KV Mechelen          KRC Genk               2               1   \n",
       "153  KSV Cercle Brugge    Club Brugge KV               1               3   \n",
       "155     RSC Anderlecht  SV Zulte-Waregem               2               0   \n",
       "162        KV Mechelen    RSC Anderlecht               2               1   \n",
       "168   SV Zulte-Waregem     KSV Roeselare               0               0   \n",
       "\n",
       "     ...    away_player_5  away_player_6  away_player_7  away_player_8  \\\n",
       "145  ...             54.0           72.0           67.0           65.0   \n",
       "153  ...             66.0           70.0           69.0           68.0   \n",
       "155  ...             49.0           64.0           69.0           66.0   \n",
       "162  ...             67.0           75.0           70.0           77.0   \n",
       "168  ...             60.0           58.0           65.0           60.0   \n",
       "\n",
       "     away_player_9  away_player_10  away_player_11  B365H  B365D  B365A  \n",
       "145           70.0            68.0            63.0   3.00    3.4   2.30  \n",
       "153           67.0            73.0            68.0   2.80    3.2   2.37  \n",
       "155           55.0            58.0            64.0   1.40    4.5   8.00  \n",
       "162           74.0            70.0            69.0   4.50    3.6   1.75  \n",
       "168           60.0            63.0            65.0   1.75    3.5   4.75  \n",
       "\n",
       "[5 rows x 35 columns]"
      ]
     },
     "execution_count": 7,
     "metadata": {},
     "output_type": "execute_result"
    }
   ],
   "source": [
    "matches.head()"
   ]
  },
  {
   "cell_type": "markdown",
   "metadata": {},
   "source": [
    "Now we are going to add a new column, `match_result` which compares `home_team_goal` and `away_team_goal` and determines who won, or if there was a tie."
   ]
  },
  {
   "cell_type": "code",
   "execution_count": 8,
   "metadata": {
    "collapsed": true
   },
   "outputs": [],
   "source": [
    "# Replace home_team_goal and away_team_goal with home_win (0 = no/draw, 1 = yes)\n",
    "def find_winner(row):\n",
    "    if row['home_team_goal'] > row['away_team_goal']:\n",
    "        return 2\n",
    "    if row['home_team_goal'] == row['away_team_goal']: \n",
    "        return 1\n",
    "    if row['home_team_goal'] < row['away_team_goal']:\n",
    "        return 0\n",
    "matches.insert(9, 'match_result', -1)\n",
    "matches['match_result'] = matches.apply(lambda x: find_winner(x), axis = 1)\n",
    "matches = matches.drop(['home_team_goal', 'away_team_goal'], axis = 1)"
   ]
  },
  {
   "cell_type": "markdown",
   "metadata": {},
   "source": [
    "Now, separate by country"
   ]
  },
  {
   "cell_type": "code",
   "execution_count": 9,
   "metadata": {
    "collapsed": true
   },
   "outputs": [],
   "source": [
    "england_matches = matches[(matches['country_id'] == 1729)]\n",
    "france_matches = matches[(matches['country_id'] == 4769)]\n",
    "germany_matches = matches[(matches['country_id'] == 7809)]\n",
    "italy_matches = matches[(matches['country_id'] == 10257)]\n",
    "netherlands_matches = matches[(matches['country_id'] == 13274)]\n",
    "spain_matches = matches[(matches['country_id'] == 21518)]"
   ]
  },
  {
   "cell_type": "markdown",
   "metadata": {},
   "source": [
    "# 3) Selecting a Model to Predict Wins\n",
    "Fans of soccer know that certain leagues are easier to predict than others. For example, the Spanish La Liga is notoriously top-heavy, with Real Madrid and Barcelona dominating the league for the last few decades. We will now use a dummy baseline classifier to serve as baseline scores for models we will create. "
   ]
  },
  {
   "cell_type": "code",
   "execution_count": 10,
   "metadata": {
    "collapsed": false
   },
   "outputs": [
    {
     "name": "stdout",
     "output_type": "stream",
     "text": [
      "Baseline classification accuracy of English matches: 0.458685\n",
      "Baseline classification accuracy of Spanish matches: 0.492620\n",
      "Baseline classification accuracy of German matches: 0.458947\n",
      "Baseline classification accuracy of Italian matches: 0.473588\n"
     ]
    }
   ],
   "source": [
    "unneeded_atts = ['match_result', 'date', 'season', 'B365H', 'B365A', 'B365D', 'match_result',\n",
    "                                 'country_id', 'id', 'match_api_id', 'home_team_api_id', 'away_team_api_id', 'stage']\n",
    "\n",
    "y_tr_eng = england_matches['match_result']\n",
    "X_tr_eng = england_matches.drop(unneeded_atts, axis=1)\n",
    "y_tr_spa = spain_matches['match_result']\n",
    "X_tr_spa = spain_matches.drop(unneeded_atts, axis=1)\n",
    "y_tr_ger = germany_matches['match_result']\n",
    "X_tr_ger = germany_matches.drop(unneeded_atts, axis=1)\n",
    "y_tr_ita = italy_matches['match_result']\n",
    "X_tr_ita = italy_matches.drop(unneeded_atts, axis=1)\n",
    "\n",
    "X_tr_eng, X_val_eng, y_tr_eng, y_val_eng = train_test_split(X_tr_eng, y_tr_eng, test_size = 0.2, random_state = 0)\n",
    "X_tr_spa, X_val_spa, y_tr_spa, y_val_spa = train_test_split(X_tr_spa, y_tr_spa, test_size = 0.2, random_state = 0)\n",
    "X_tr_ger, X_val_ger, y_tr_ger, y_val_ger = train_test_split(X_tr_ger, y_tr_ger, test_size = 0.2, random_state = 0)\n",
    "X_tr_ita, X_val_ita, y_tr_ita, y_val_ita = train_test_split(X_tr_ita, y_tr_ita, test_size = 0.2, random_state = 0)\n",
    "\n",
    "\n",
    "sets = zip([('English', X_tr_eng, y_tr_eng), ('Spanish', X_tr_spa, y_tr_spa),\n",
    "            ('German', X_tr_ger, y_tr_ger), ('Italian', X_tr_ita, y_tr_ita)])\n",
    "\n",
    "\n",
    "dc_eng = DummyClassifier(strategy = 'most_frequent')\n",
    "dc_spa = DummyClassifier(strategy = 'most_frequent')\n",
    "dc_ger = DummyClassifier(strategy = 'most_frequent')\n",
    "dc_ita = DummyClassifier(strategy = 'most_frequent')\n",
    "\n",
    "dc_eng.fit(X_tr_eng, y_tr_eng)\n",
    "print(\"Baseline classification accuracy of English matches: %f\" % (dc_eng.score(X_val_eng, y_val_eng)))\n",
    "dc_spa.fit(X_tr_spa, y_tr_spa)\n",
    "print(\"Baseline classification accuracy of Spanish matches: %f\" % (dc_spa.score(X_val_spa, y_val_spa)))\n",
    "dc_ger.fit(X_tr_ger, y_tr_ger)\n",
    "print(\"Baseline classification accuracy of German matches: %f\" % (dc_ger.score(X_val_ger, y_val_ger)))\n",
    "dc_ita.fit(X_tr_ita, y_tr_ita)\n",
    "print(\"Baseline classification accuracy of Italian matches: %f\" % (dc_ita.score(X_val_ita, y_val_ita)))\n",
    "\n",
    "\n"
   ]
  },
  {
   "cell_type": "code",
   "execution_count": 11,
   "metadata": {
    "collapsed": false
   },
   "outputs": [
    {
     "name": "stdout",
     "output_type": "stream",
     "text": [
      "Classification accuracy of Logistic Regression on English matches: 0.521079\n",
      "Classification accuracy of Logistic Regression on Spanish matches: 0.535055\n",
      "Classification accuracy of Logistic Regression on German matches: 0.517895\n",
      "Classification accuracy of Logistic Regression on Italian matches: 0.522769\n"
     ]
    }
   ],
   "source": [
    "kf_eng = KFold(X_tr_eng.index.size, n_folds = 10, shuffle=True, random_state = 0)\n",
    "kf_spa = KFold(X_tr_spa.index.size, n_folds = 10, shuffle=True, random_state = 0)\n",
    "kf_ger = KFold(X_tr_ger.index.size, n_folds = 10, shuffle=True, random_state = 0)\n",
    "kf_ita = KFold(X_tr_ita.index.size, n_folds = 10, shuffle=True, random_state = 0)\n",
    "\n",
    "c_space = np.logspace(-5, 5, 20)\n",
    "lgr_eng = LogisticRegressionCV(Cs = c_space, cv = kf_eng, solver='lbfgs')\n",
    "lgr_eng.fit(X_tr_eng, y_tr_eng)\n",
    "print(\"Classification accuracy of Logistic Regression on English matches: %f\" % (lgr_eng.score(X_val_eng, y_val_eng)))\n",
    "lgr_spa = LogisticRegressionCV(Cs = c_space, cv = kf_spa, solver='lbfgs')\n",
    "lgr_spa.fit(X_tr_spa, y_tr_spa)\n",
    "print(\"Classification accuracy of Logistic Regression on Spanish matches: %f\" % (lgr_eng.score(X_val_spa, y_val_spa)))\n",
    "lgr_ger = LogisticRegressionCV(Cs = c_space, cv = kf_ger, solver='lbfgs')\n",
    "lgr_ger.fit(X_tr_ger, y_tr_ger)\n",
    "print(\"Classification accuracy of Logistic Regression on German matches: %f\" % (lgr_eng.score(X_val_ger, y_val_ger)))\n",
    "lgr_ita = LogisticRegressionCV(Cs = c_space, cv = kf_ita, solver='lbfgs')\n",
    "lgr_ita.fit(X_tr_ita, y_tr_ita)\n",
    "print(\"Classification accuracy of Logistic Regression on Italian matches: %f\" % (lgr_eng.score(X_val_ita, y_val_ita)))"
   ]
  },
  {
   "cell_type": "markdown",
   "metadata": {},
   "source": [
    "Not bad, we've gotten a fairly decent increase in classification accuracy compared to the baseline classifier. Let's see if we can do better. I will now create a RandomForestClassifier, see its scores, and then see what the most impactful features are."
   ]
  },
  {
   "cell_type": "code",
   "execution_count": 12,
   "metadata": {
    "collapsed": false
   },
   "outputs": [
    {
     "name": "stdout",
     "output_type": "stream",
     "text": [
      "Random Forest classification accuracy of English matches: 0.490725\n",
      "Random Forest classification accuracy of Spanish matches: 0.522140\n",
      "Random Forest classification accuracy of German matches: 0.482105\n",
      "Random Forest classification accuracy of Italian matches: 0.484517\n"
     ]
    }
   ],
   "source": [
    "rfc_eng = RandomForestClassifier(n_estimators = 29, random_state = 31)\n",
    "rfc_spa = RandomForestClassifier(n_estimators = 29, random_state = 31)\n",
    "rfc_ger = RandomForestClassifier(n_estimators = 29, random_state = 31)\n",
    "rfc_ita = RandomForestClassifier(n_estimators = 29, random_state = 31)\n",
    "\n",
    "rfc_eng.fit(X_tr_eng, y_tr_eng)\n",
    "print(\"Random Forest classification accuracy of English matches: %f\" % (rfc_eng.score(X_val_eng, y_val_eng)))\n",
    "rfc_spa.fit(X_tr_spa, y_tr_spa)\n",
    "print(\"Random Forest classification accuracy of Spanish matches: %f\" % (rfc_spa.score(X_val_spa, y_val_spa)))\n",
    "rfc_ger.fit(X_tr_ger, y_tr_ger)\n",
    "print(\"Random Forest classification accuracy of German matches: %f\" % (rfc_ger.score(X_val_ger, y_val_ger)))\n",
    "rfc_ita.fit(X_tr_ita, y_tr_ita)\n",
    "print(\"Random Forest classification accuracy of Italian matches: %f\" % (rfc_ita.score(X_val_ita, y_val_ita)))"
   ]
  },
  {
   "cell_type": "code",
   "execution_count": 13,
   "metadata": {
    "collapsed": false
   },
   "outputs": [
    {
     "data": {
      "text/plain": [
       "array(['home_player_9', 'home_player_8', 'away_player_4', 'away_player_7',\n",
       "       'home_player_6', 'away_player_8', 'home_player_7', 'away_player_5',\n",
       "       'away_player_11', 'home_player_10', 'away_player_1',\n",
       "       'home_player_4', 'home_player_11', 'away_player_6', 'away_player_3',\n",
       "       'away_player_10', 'away_player_9', 'home_player_5', 'home_player_3',\n",
       "       'home_player_1', 'away_player_2', 'home_player_2'], \n",
       "      dtype='|S14')"
      ]
     },
     "execution_count": 13,
     "metadata": {},
     "output_type": "execute_result"
    }
   ],
   "source": [
    "def find_feature_name(n):\n",
    "    index = all_features.index(n)\n",
    "    return X_tr_eng.columns.values[index]\n",
    "all_features = list(rfc_eng.feature_importances_)\n",
    "top_50_features = np.sort(rfc_eng.feature_importances_)[::-1][:50]\n",
    "find_feature_name = np.vectorize(find_feature_name)\n",
    "find_feature_name(top_50_features)\n"
   ]
  },
  {
   "cell_type": "markdown",
   "metadata": {},
   "source": [
    "There aren't really any features here that I would want to remove - considering they're all players and each player is integral to the performance of a team. However, we can recap a few conclusions from the above results. It seems that the Spanish leagues are generally easier to predict than every other league. This could be because of many reasons:\n",
    "\n",
    "i) Certain teams that always win against other teams\n",
    "\n",
    "ii) Very top-heavy league\n",
    "\n",
    "iii) Low variance\n",
    "\n",
    "(note, these three factors are not independant of eachother)."
   ]
  },
  {
   "cell_type": "code",
   "execution_count": 14,
   "metadata": {
    "collapsed": false
   },
   "outputs": [
    {
     "name": "stdout",
     "output_type": "stream",
     "text": [
      "Classification accuracy of RBF SVC on English matches: 0.454615\n",
      "Classification accuracy of RBF SVC on Spanish matches: 0.482902\n",
      "Classification accuracy of RBF SVC on German matches: 0.452632\n",
      "Classification accuracy of RBF SVC on Italian matches: 0.463493\n"
     ]
    }
   ],
   "source": [
    "eng_rbf = SVC(kernel = 'rbf', probability = True)\n",
    "spa_rbf = SVC(kernel = 'rbf', probability = True)\n",
    "ger_rbf = SVC(kernel = 'rbf', probability = True)\n",
    "ita_rbf = SVC(kernel = 'rbf', probability = True)\n",
    "\n",
    "\n",
    "print(\"Classification accuracy of RBF SVC on English matches: %f\" % (np.mean(cross_val_score(eng_rbf, X_tr_eng, y_tr_eng, cv=kf_eng))))\n",
    "print(\"Classification accuracy of RBF SVC on Spanish matches: %f\" % (np.mean(cross_val_score(spa_rbf, X_tr_spa, y_tr_spa, cv=kf_spa))))\n",
    "print(\"Classification accuracy of RBF SVC on German matches: %f\" % (np.mean(cross_val_score(ger_rbf, X_tr_ger, y_tr_ger, cv=kf_ger))))\n",
    "print(\"Classification accuracy of RBF SVC on Italian matches: %f\" % (np.mean(cross_val_score(ita_rbf, X_tr_ita, y_tr_ita, cv=kf_ita))))"
   ]
  },
  {
   "cell_type": "markdown",
   "metadata": {},
   "source": [
    "RBF-kernel SVCs perform worse than logistic regression, and actually even worse than the baseline estimator does.\n",
    "It is clear that the best model to use is Logistic Regression with solver = lbfgs currently."
   ]
  },
  {
   "cell_type": "markdown",
   "metadata": {},
   "source": [
    "# 4) Individual Team Predictions"
   ]
  },
  {
   "cell_type": "markdown",
   "metadata": {},
   "source": [
    "I will be using the Spanish League currently in this example. I will use the Spanish logistic regression model I trained above. I will then visualize the results, and hopefully be able to apply it to every team from the leagues we've chosen."
   ]
  },
  {
   "cell_type": "code",
   "execution_count": 81,
   "metadata": {
    "collapsed": false
   },
   "outputs": [
    {
     "data": {
      "text/plain": [
       "<matplotlib.text.Text at 0x10fe87590>"
      ]
     },
     "execution_count": 81,
     "metadata": {},
     "output_type": "execute_result"
    },
    {
     "data": {
      "image/png": "[encoded data removed]",
      "text/plain": [
       "<matplotlib.figure.Figure at 0x10ed8a8d0>"
      ]
     },
     "metadata": {},
     "output_type": "display_data"
    }
   ],
   "source": [
    "\n",
    "spanish_teams = spain_matches['home_team_api_id'].unique()\n",
    "spanish_teams = spanish_teams.astype('U')\n",
    "spanish_results = {}\n",
    "for team in spanish_teams:\n",
    "    team_matches = spain_matches.loc[spain_matches['home_team_api_id'] == team]\n",
    "    team_matches = team_matches.append(spain_matches.loc[spain_matches['away_team_api_id'] == team])\n",
    "    X_team = team_matches.drop(unneeded_atts, axis = 1)\n",
    "    y_team = team_matches['match_result']\n",
    "    team_score = lgr_spa.score(X_team, y_team)\n",
    "    spanish_results[team] = team_score\n",
    "    \n",
    "spanish_results = pd.Series(spanish_results, name = 'score')\n",
    "spanish_results.index.name = 'team'\n",
    "spanish_results = spanish_results.reset_index()\n",
    "team_name_map = teams[['team_long_name', 'team_short_name']].set_index('team_long_name')['team_short_name'].to_dict()\n",
    "spanish_results['team_short'] = spanish_results['team'].map(team_name_map)\n",
    "# display scatter plot data\n",
    "plt.figure(figsize = [14, 8])\n",
    "plt.title('Classification Accuracy of La Liga Teams')\n",
    "g = sns.stripplot(x=\"team_short\", y=\"score\", data=spanish_results, size = 7)\n",
    "plt.xlabel('team name')\n"
   ]
  },
  {
   "cell_type": "code",
   "execution_count": 87,
   "metadata": {
    "collapsed": false
   },
   "outputs": [
    {
     "data": {
      "text/plain": [
       "{u'Athletic Club de Bilbao': 0.55636363636363639,\n",
       " u'Atl\\xe9tico Madrid': 0.60563380281690138,\n",
       " u'CA Osasuna': 0.53266331658291455,\n",
       " u'CD Numancia': 0.66666666666666663,\n",
       " u'CD Tenerife': 0.63157894736842102,\n",
       " u'C\\xf3rdoba CF': 0.51351351351351349,\n",
       " u'Elche CF': 0.50666666666666671,\n",
       " u'FC Barcelona': 0.75555555555555554,\n",
       " u'Getafe CF': 0.51301115241635686,\n",
       " u'Granada CF': 0.51098901098901095,\n",
       " u'H\\xe9rcules Club de F\\xfatbol': 0.52941176470588236,\n",
       " u'Levante UD': 0.51851851851851849,\n",
       " u'M\\xe1laga CF': 0.49259259259259258,\n",
       " u'RC Celta de Vigo': 0.49324324324324326,\n",
       " u'RC Deportivo de La Coru\\xf1a': 0.50724637681159424,\n",
       " u'RC Recreativo': 0.55555555555555558,\n",
       " u'RCD Espanyol': 0.54411764705882348,\n",
       " u'RCD Mallorca': 0.5696969696969697,\n",
       " u'Racing Santander': 0.45522388059701491,\n",
       " u'Rayo Vallecano': 0.58579881656804733,\n",
       " u'Real Betis Balompi\\xe9': 0.48587570621468928,\n",
       " u'Real Madrid CF': 0.74468085106382975,\n",
       " u'Real Sociedad': 0.48878923766816146,\n",
       " u'Real Sporting de Gij\\xf3n': 0.48936170212765956,\n",
       " u'Real Valladolid': 0.46323529411764708,\n",
       " u'Real Zaragoza': 0.56557377049180324,\n",
       " u'SD Eibar': 0.57534246575342463,\n",
       " u'Sevilla FC': 0.56993006993006989,\n",
       " u'UD Almer\\xeda': 0.56287425149700598,\n",
       " u'UD Las Palmas': 0.54838709677419351,\n",
       " u'Valencia CF': 0.55673758865248224,\n",
       " u'Villarreal CF': 0.50840336134453779,\n",
       " u'Xerez Club Deportivo': 0.6875}"
      ]
     },
     "execution_count": 87,
     "metadata": {},
     "output_type": "execute_result"
    }
   ],
   "source": [
    "team_sets = [('Spain', spain_matches, lgr_spa, {}), ('England', england_matches, lgr_eng, {}),\n",
    "            ('Germany', germany_matches, lgr_ger, {}), ('Italy', italy_matches, lgr_ita, {})]\n",
    "for country, country_matches, lgr, results in team_sets:\n",
    "    team_apis = country_matches['home_team_api_id'].unique()\n",
    "    team_apis = team_apis.astype('U')\n",
    "    for team in team_apis:\n",
    "        team_matches = country_matches.loc[country_matches['home_team_api_id'] == team]\n",
    "        team_matches = team_matches.append(country_matches.loc[country_matches['away_team_api_id'] == team])\n",
    "        X_team = team_matches.drop(unneeded_atts, axis = 1)\n",
    "        y_team = team_matches['match_result']\n",
    "        team_score = lgr.score(X_team, y_team)\n",
    "        results[team] = team_score\n",
    "\n",
    "team_sets[0][3]"
   ]
  },
  {
   "cell_type": "code",
   "execution_count": null,
   "metadata": {
    "collapsed": true
   },
   "outputs": [],
   "source": []
  }
 ],
 "metadata": {
  "anaconda-cloud": {},
  "kernelspec": {
   "display_name": "Python 2",
   "language": "python",
   "name": "python2"
  },
  "language_info": {
   "codemirror_mode": {
    "name": "ipython",
    "version": 2
   },
   "file_extension": ".py",
   "mimetype": "text/x-python",
   "name": "python",
   "nbconvert_exporter": "python",
   "pygments_lexer": "ipython2",
   "version": "2.7.12"
  }
 },
 "nbformat": 4,
 "nbformat_minor": 0
}
