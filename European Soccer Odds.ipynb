{
 "cells": [
  {
   "cell_type": "markdown",
   "metadata": {},
   "source": [
    "# Imports\n",
    "Import required libraries"
   ]
  },
  {
   "cell_type": "code",
   "execution_count": 132,
   "metadata": {
    "collapsed": false
   },
   "outputs": [],
   "source": [
    "from __future__ import print_function, division\n",
    "import os\n",
    "import numpy as np\n",
    "import matplotlib.pyplot as plt\n",
    "import seaborn as sns\n",
    "import pandas as pd\n",
    "import numpy as np\n",
    "import sklearn as sklearn\n",
    "from numpy import random\n",
    "import sqlite3\n",
    "%matplotlib inline"
   ]
  },
  {
   "cell_type": "markdown",
   "metadata": {},
   "source": [
    "# 1) Initializing the dataset\n",
    "Read-in the tables from the sqlite database."
   ]
  },
  {
   "cell_type": "code",
   "execution_count": 133,
   "metadata": {
    "collapsed": false
   },
   "outputs": [],
   "source": [
    "with sqlite3.connect('database.sqlite') as con:\n",
    "    countries = pd.read_sql_query(\"SELECT * from Country\", con)\n",
    "    leagues = pd.read_sql_query(\"SELECT * from League\", con)\n",
    "    teams = pd.read_sql_query(\"SELECT * from Team\", con)\n",
    "    matches = pd.read_sql_query(\"SELECT * from Match\", con)\n"
   ]
  },
  {
   "cell_type": "markdown",
   "metadata": {},
   "source": [
    "For now, we will currently only be examining betting data from bet365. Many of the betting sites included in the dataset are missing betting data on a large portion of the matches and bet365 has by far the most.\n",
    "\n",
    "We will also drop attributes that will not be useful for what we want yet; these attributes are generally ingame statistics of the matches in general."
   ]
  },
  {
   "cell_type": "code",
   "execution_count": 134,
   "metadata": {
    "collapsed": false
   },
   "outputs": [],
   "source": [
    "# Drops unneeded attributes\n",
    "atts_to_drop = ['BWH', 'BWD', 'BWA', 'IWH', 'IWD', 'IWA', 'LBH', 'LBD', 'LBA', 'GBD',\n",
    "               'PSH', 'PSD', 'PSA', 'WHH', 'WHA', 'WHD', 'SJH', 'SJD', 'SJA', 'VCH',\n",
    "               'VCD', 'VCA', 'GBH', 'GBA', 'BSH', 'BSD', 'BSA', 'goal', 'shoton', 'shotoff',\n",
    "               'foulcommit', 'card', 'cross', 'corner', 'possession']\n",
    "matches = matches.drop(atts_to_drop, axis=1) \n",
    "\n",
    "# Drops player formation values\n",
    "matches = matches.drop(matches.columns[11:55], axis=1)\n",
    "\n",
    "# Drops null values\n",
    "matches = matches.dropna()"
   ]
  },
  {
   "cell_type": "markdown",
   "metadata": {},
   "source": [
    "Splits the matches data based on their country. Often times countries will have many different leagues, but this dataset only includes data from the biggest league in each country.\n",
    "We will only be using data from the top six biggest European leagues."
   ]
  },
  {
   "cell_type": "code",
   "execution_count": 135,
   "metadata": {
    "collapsed": false
   },
   "outputs": [
    {
     "name": "stdout",
     "output_type": "stream",
     "text": [
      "       id         name\n",
      "0       1      Belgium\n",
      "1    1729      England\n",
      "2    4769       France\n",
      "3    7809      Germany\n",
      "4   10257        Italy\n",
      "5   13274  Netherlands\n",
      "6   15722       Poland\n",
      "7   17642     Portugal\n",
      "8   19694     Scotland\n",
      "9   21518        Spain\n",
      "10  24558  Switzerland\n"
     ]
    }
   ],
   "source": [
    "print(countries)\n",
    "england_matches = matches[(matches['country_id'] == 1729)]\n",
    "france_matches = matches[(matches['country_id'] == 4769)]\n",
    "germany_matches = matches[(matches['country_id'] == 7809)]\n",
    "italy_matches = matches[(matches['country_id'] == 10257)]\n",
    "netherlands_matches = matches[(matches['country_id'] == 13274)]\n",
    "spain_matches = matches[(matches['country_id'] == 21518)]"
   ]
  },
  {
   "cell_type": "markdown",
   "metadata": {},
   "source": [
    "# 2) Ranking the Leagues by Ease of Prediction\n",
    "Fans of soccer know that certain leagues are easier to predict than others. For example, the Spanish La Liga is notoriously top-heavy, with Real Madrid and Barcelona dominating the league for the last few decades. Let's see if we can b"
   ]
  },
  {
   "cell_type": "code",
   "execution_count": null,
   "metadata": {
    "collapsed": true
   },
   "outputs": [],
   "source": []
  }
 ],
 "metadata": {
  "anaconda-cloud": {},
  "kernelspec": {
   "display_name": "Python [iaml]",
   "language": "python",
   "name": "Python [iaml]"
  },
  "language_info": {
   "codemirror_mode": {
    "name": "ipython",
    "version": 2
   },
   "file_extension": ".py",
   "mimetype": "text/x-python",
   "name": "python",
   "nbconvert_exporter": "python",
   "pygments_lexer": "ipython2",
   "version": "2.7.12"
  }
 },
 "nbformat": 4,
 "nbformat_minor": 0
}
