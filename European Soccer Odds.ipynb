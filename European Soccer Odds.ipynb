{
 "cells": [
  {
   "cell_type": "markdown",
   "metadata": {},
   "source": [
    "# Imports\n",
    "Import required libraries"
   ]
  },
  {
   "cell_type": "code",
   "execution_count": 19,
   "metadata": {
    "collapsed": false
   },
   "outputs": [],
   "source": [
    "from __future__ import print_function, division\n",
    "import os\n",
    "import numpy as np\n",
    "from scipy import stats\n",
    "import matplotlib.pyplot as plt\n",
    "import seaborn as sns\n",
    "import pandas as pd\n",
    "import numpy as np\n",
    "import sklearn as sklearn\n",
    "from sklearn.cross_validation import train_test_split, KFold, cross_val_predict\n",
    "from sklearn.linear_model import LinearRegression\n",
    "from sklearn.metrics import mean_squared_error\n",
    "from sklearn.metrics import mean_absolute_error\n",
    "from numpy import random\n",
    "import sqlite3\n",
    "%matplotlib inline"
   ]
  },
  {
   "cell_type": "markdown",
   "metadata": {},
   "source": [
    "# 1) Description of the dataset\n",
    "The initial database has four tables: Countries, leagues, teams, team_atts, matches, players, player_atts.\n",
    "\n",
    "Countries - The country_id for each match (which country the match took place in)\n",
    "\n",
    "Leagues - The league_id for each match (as each country only has one league in this set, this is identical to country_id and not needed).\n",
    "\n",
    "Teams - Contains the id, team_api_id, team_fifa_api_id, and name of each team. The team_fifa_api_id is what the id of each team is in the FIFA games (where player/team statistics are pulled from).\n",
    "\n",
    "Team_atts - Contains attributes about each team: their playstyle, offense, defense, etc.\n",
    "\n",
    "Matches - This contains the bulk of the data that we want. Contains information about: who the home/away team are, which league the game took place in, which season, the data, player statistics, and betting data.\n",
    "\n",
    "Players - Contains information about each player: their id, age, team, stature\n",
    "\n",
    "Player_atts - Has information on the attributes of each player: their skills, strengths, weaknesses, but most importantly their player rating.\n",
    "\n",
    "--A side note, teams and players contain both a FIFA and non-FIFA key. Matches are joined to them by non-FIFA key.--"
   ]
  },
  {
   "cell_type": "markdown",
   "metadata": {},
   "source": [
    "We will now read-in the tables from the sqlite database."
   ]
  },
  {
   "cell_type": "code",
   "execution_count": 57,
   "metadata": {
    "collapsed": false
   },
   "outputs": [],
   "source": [
    "with sqlite3.connect('database.sqlite') as con:\n",
    "    countries = pd.read_sql_query(\"SELECT * from Country\", con)\n",
    "    matches = pd.read_sql_query(\"SELECT * from Match\", con)\n",
    "    players = pd.read_sql_query(\"SELECT * from Player\", con)\n",
    "    player_atts = pd.read_sql_query(\"SELECT * from Player_Attributes\", con)\n",
    "    team_atts = pd.read_sql_query(\"SELECT * from Team_Attributes\", con)\n",
    "    teams = pd.read_sql_query(\"SELECT * from Team\", con)\n"
   ]
  },
  {
   "cell_type": "markdown",
   "metadata": {},
   "source": [
    "For now, we will currently only be examining betting data from bet365. Many of the betting sites included in the dataset are missing betting data on a large portion of the matches and bet365 has by far the most.\n",
    "\n",
    "We will also drop attributes that will not be useful for what we want yet; these attributes are generally ingame statistics of the matches in general.\n",
    "\n",
    "`league_id` is also dropped because we are not using the leagues table."
   ]
  },
  {
   "cell_type": "code",
   "execution_count": 58,
   "metadata": {
    "collapsed": false
   },
   "outputs": [],
   "source": [
    "# Drops unneeded attributes\n",
    "atts_to_drop = ['BWH', 'BWD', 'BWA', 'IWH', 'IWD', 'IWA', 'LBH', 'LBD', 'LBA', 'GBD',\n",
    "               'PSH', 'PSD', 'PSA', 'WHH', 'WHA', 'WHD', 'SJH', 'SJD', 'SJA', 'VCH',\n",
    "               'VCD', 'VCA', 'GBH', 'GBA', 'BSH', 'BSD', 'BSA', 'shoton', 'goal', 'shotoff',\n",
    "               'foulcommit', 'card', 'cross', 'corner', 'possession', 'league_id']\n",
    "matches = matches.drop(atts_to_drop, axis=1) \n",
    "\n",
    "# Drops player formation values\n",
    "matches = matches.drop(matches.columns[10:54], axis=1)\n",
    "\n",
    "# Drops null values\n",
    "matches = matches.dropna()\n",
    "\n",
    "# Replace home_team_goal and away_team_goal with home_win (0 = no, 1 = draw, 2 = yes)\n",
    "def find_winner(row):\n",
    "    if row['home_team_goal'] > row['away_team_goal']:\n",
    "        return 2\n",
    "    if row['home_team_goal'] == row['away_team_goal']:\n",
    "        return 1\n",
    "    if row['home_team_goal'] < row['away_team_goal']:\n",
    "        return 0\n",
    "    \n",
    "matches.insert(9, 'match_result', -1)\n",
    "matches['match_result'] = matches.apply(lambda x: find_winner(x), axis = 1)\n",
    "matches = matches.drop(['home_team_goal', 'away_team_goal'], axis = 1)\n"
   ]
  },
  {
   "cell_type": "code",
   "execution_count": 59,
   "metadata": {
    "collapsed": false,
    "scrolled": true
   },
   "outputs": [],
   "source": [
    "england_matches = matches[(matches['country_id'] == 1729)]\n",
    "france_matches = matches[(matches['country_id'] == 4769)]\n",
    "germany_matches = matches[(matches['country_id'] == 7809)]\n",
    "italy_matches = matches[(matches['country_id'] == 10257)]\n",
    "netherlands_matches = matches[(matches['country_id'] == 13274)]\n",
    "spain_matches = matches[(matches['country_id'] == 21518)]"
   ]
  },
  {
   "cell_type": "markdown",
   "metadata": {},
   "source": [
    "We will take the dates and append the players' player_id with them (to make it easier to process), as player_atts contains different player rating values for each date they play."
   ]
  },
  {
   "cell_type": "code",
   "execution_count": 60,
   "metadata": {
    "collapsed": false
   },
   "outputs": [],
   "source": [
    "players = ['home_player_1', 'home_player_2', 'home_player_3', 'home_player_4', 'home_player_5',\n",
    "          'home_player_6', 'home_player_7', 'home_player_8', 'home_player_9', 'home_player_10', 'home_player_11',\n",
    "          'away_player_1', 'away_player_2', 'away_player_3', 'away_player_4', 'away_player_5', 'away_player_6',\n",
    "          'away_player_7', 'away_player_8', 'away_player_9', 'away_player_10', 'away_player_11']\n",
    "\n",
    "for col in players:\n",
    "    matches[col] = matches[col].map(str) + ' ' + matches['date']\n",
    "\n",
    "player_atts['player_api_id'] = player_atts['player_api_id'].map(str) + ' ' + player_atts['date']"
   ]
  },
  {
   "cell_type": "code",
   "execution_count": 61,
   "metadata": {
    "collapsed": false
   },
   "outputs": [
    {
     "data": {
      "text/html": [
       "<div>\n",
       "<table border=\"1\" class=\"dataframe\">\n",
       "  <thead>\n",
       "    <tr style=\"text-align: right;\">\n",
       "      <th></th>\n",
       "      <th>id</th>\n",
       "      <th>player_fifa_api_id</th>\n",
       "      <th>player_api_id</th>\n",
       "      <th>date</th>\n",
       "      <th>overall_rating</th>\n",
       "      <th>potential</th>\n",
       "      <th>preferred_foot</th>\n",
       "      <th>attacking_work_rate</th>\n",
       "      <th>defensive_work_rate</th>\n",
       "      <th>crossing</th>\n",
       "      <th>...</th>\n",
       "      <th>vision</th>\n",
       "      <th>penalties</th>\n",
       "      <th>marking</th>\n",
       "      <th>standing_tackle</th>\n",
       "      <th>sliding_tackle</th>\n",
       "      <th>gk_diving</th>\n",
       "      <th>gk_handling</th>\n",
       "      <th>gk_kicking</th>\n",
       "      <th>gk_positioning</th>\n",
       "      <th>gk_reflexes</th>\n",
       "    </tr>\n",
       "  </thead>\n",
       "  <tbody>\n",
       "    <tr>\n",
       "      <th>0</th>\n",
       "      <td>1</td>\n",
       "      <td>218353</td>\n",
       "      <td>505942 2016-02-18 00:00:00</td>\n",
       "      <td>2016-02-18 00:00:00</td>\n",
       "      <td>67.0</td>\n",
       "      <td>71.0</td>\n",
       "      <td>right</td>\n",
       "      <td>medium</td>\n",
       "      <td>medium</td>\n",
       "      <td>49.0</td>\n",
       "      <td>...</td>\n",
       "      <td>54.0</td>\n",
       "      <td>48.0</td>\n",
       "      <td>65.0</td>\n",
       "      <td>69.0</td>\n",
       "      <td>69.0</td>\n",
       "      <td>6.0</td>\n",
       "      <td>11.0</td>\n",
       "      <td>10.0</td>\n",
       "      <td>8.0</td>\n",
       "      <td>8.0</td>\n",
       "    </tr>\n",
       "    <tr>\n",
       "      <th>1</th>\n",
       "      <td>2</td>\n",
       "      <td>218353</td>\n",
       "      <td>505942 2015-11-19 00:00:00</td>\n",
       "      <td>2015-11-19 00:00:00</td>\n",
       "      <td>67.0</td>\n",
       "      <td>71.0</td>\n",
       "      <td>right</td>\n",
       "      <td>medium</td>\n",
       "      <td>medium</td>\n",
       "      <td>49.0</td>\n",
       "      <td>...</td>\n",
       "      <td>54.0</td>\n",
       "      <td>48.0</td>\n",
       "      <td>65.0</td>\n",
       "      <td>69.0</td>\n",
       "      <td>69.0</td>\n",
       "      <td>6.0</td>\n",
       "      <td>11.0</td>\n",
       "      <td>10.0</td>\n",
       "      <td>8.0</td>\n",
       "      <td>8.0</td>\n",
       "    </tr>\n",
       "    <tr>\n",
       "      <th>2</th>\n",
       "      <td>3</td>\n",
       "      <td>218353</td>\n",
       "      <td>505942 2015-09-21 00:00:00</td>\n",
       "      <td>2015-09-21 00:00:00</td>\n",
       "      <td>62.0</td>\n",
       "      <td>66.0</td>\n",
       "      <td>right</td>\n",
       "      <td>medium</td>\n",
       "      <td>medium</td>\n",
       "      <td>49.0</td>\n",
       "      <td>...</td>\n",
       "      <td>54.0</td>\n",
       "      <td>48.0</td>\n",
       "      <td>65.0</td>\n",
       "      <td>66.0</td>\n",
       "      <td>69.0</td>\n",
       "      <td>6.0</td>\n",
       "      <td>11.0</td>\n",
       "      <td>10.0</td>\n",
       "      <td>8.0</td>\n",
       "      <td>8.0</td>\n",
       "    </tr>\n",
       "    <tr>\n",
       "      <th>3</th>\n",
       "      <td>4</td>\n",
       "      <td>218353</td>\n",
       "      <td>505942 2015-03-20 00:00:00</td>\n",
       "      <td>2015-03-20 00:00:00</td>\n",
       "      <td>61.0</td>\n",
       "      <td>65.0</td>\n",
       "      <td>right</td>\n",
       "      <td>medium</td>\n",
       "      <td>medium</td>\n",
       "      <td>48.0</td>\n",
       "      <td>...</td>\n",
       "      <td>53.0</td>\n",
       "      <td>47.0</td>\n",
       "      <td>62.0</td>\n",
       "      <td>63.0</td>\n",
       "      <td>66.0</td>\n",
       "      <td>5.0</td>\n",
       "      <td>10.0</td>\n",
       "      <td>9.0</td>\n",
       "      <td>7.0</td>\n",
       "      <td>7.0</td>\n",
       "    </tr>\n",
       "    <tr>\n",
       "      <th>4</th>\n",
       "      <td>5</td>\n",
       "      <td>218353</td>\n",
       "      <td>505942 2007-02-22 00:00:00</td>\n",
       "      <td>2007-02-22 00:00:00</td>\n",
       "      <td>61.0</td>\n",
       "      <td>65.0</td>\n",
       "      <td>right</td>\n",
       "      <td>medium</td>\n",
       "      <td>medium</td>\n",
       "      <td>48.0</td>\n",
       "      <td>...</td>\n",
       "      <td>53.0</td>\n",
       "      <td>47.0</td>\n",
       "      <td>62.0</td>\n",
       "      <td>63.0</td>\n",
       "      <td>66.0</td>\n",
       "      <td>5.0</td>\n",
       "      <td>10.0</td>\n",
       "      <td>9.0</td>\n",
       "      <td>7.0</td>\n",
       "      <td>7.0</td>\n",
       "    </tr>\n",
       "  </tbody>\n",
       "</table>\n",
       "<p>5 rows × 42 columns</p>\n",
       "</div>"
      ],
      "text/plain": [
       "   id  player_fifa_api_id               player_api_id                 date  \\\n",
       "0   1              218353  505942 2016-02-18 00:00:00  2016-02-18 00:00:00   \n",
       "1   2              218353  505942 2015-11-19 00:00:00  2015-11-19 00:00:00   \n",
       "2   3              218353  505942 2015-09-21 00:00:00  2015-09-21 00:00:00   \n",
       "3   4              218353  505942 2015-03-20 00:00:00  2015-03-20 00:00:00   \n",
       "4   5              218353  505942 2007-02-22 00:00:00  2007-02-22 00:00:00   \n",
       "\n",
       "   overall_rating  potential preferred_foot attacking_work_rate  \\\n",
       "0            67.0       71.0          right              medium   \n",
       "1            67.0       71.0          right              medium   \n",
       "2            62.0       66.0          right              medium   \n",
       "3            61.0       65.0          right              medium   \n",
       "4            61.0       65.0          right              medium   \n",
       "\n",
       "  defensive_work_rate  crossing     ...       vision  penalties  marking  \\\n",
       "0              medium      49.0     ...         54.0       48.0     65.0   \n",
       "1              medium      49.0     ...         54.0       48.0     65.0   \n",
       "2              medium      49.0     ...         54.0       48.0     65.0   \n",
       "3              medium      48.0     ...         53.0       47.0     62.0   \n",
       "4              medium      48.0     ...         53.0       47.0     62.0   \n",
       "\n",
       "   standing_tackle  sliding_tackle  gk_diving  gk_handling  gk_kicking  \\\n",
       "0             69.0            69.0        6.0         11.0        10.0   \n",
       "1             69.0            69.0        6.0         11.0        10.0   \n",
       "2             66.0            69.0        6.0         11.0        10.0   \n",
       "3             63.0            66.0        5.0         10.0         9.0   \n",
       "4             63.0            66.0        5.0         10.0         9.0   \n",
       "\n",
       "   gk_positioning  gk_reflexes  \n",
       "0             8.0          8.0  \n",
       "1             8.0          8.0  \n",
       "2             8.0          8.0  \n",
       "3             7.0          7.0  \n",
       "4             7.0          7.0  \n",
       "\n",
       "[5 rows x 42 columns]"
      ]
     },
     "execution_count": 61,
     "metadata": {},
     "output_type": "execute_result"
    }
   ],
   "source": [
    "player_atts.head()"
   ]
  },
  {
   "cell_type": "markdown",
   "metadata": {},
   "source": [
    "Now, we will replace player_ids with their player rating values in FIFA."
   ]
  },
  {
   "cell_type": "code",
   "execution_count": null,
   "metadata": {
    "collapsed": true
   },
   "outputs": [],
   "source": [
    "matches[players] = matches[players].applymap(lambda x: player_atts.loc[(player_atts['player_api_id'] == x)]['overall_rating'])"
   ]
  },
  {
   "cell_type": "code",
   "execution_count": null,
   "metadata": {
    "collapsed": false
   },
   "outputs": [],
   "source": [
    "player_atts.head()\n",
    "player_atts.loc[(player_atts['player_api_id'] == 505942)]"
   ]
  },
  {
   "cell_type": "markdown",
   "metadata": {},
   "source": [
    "# 3) Visualizing the data-set"
   ]
  },
  {
   "cell_type": "code",
   "execution_count": null,
   "metadata": {
    "collapsed": false
   },
   "outputs": [],
   "source": [
    "multipred = england_matches.drop(['date','season','B365H', 'B365A', 'B365D', 'match_result', 'country_id', 'id', 'match_api_id'], axis=1)\n",
    "multitarget = england_matches['B365H']\n",
    "kf = KFold(multitarget.size, n_folds = 10, shuffle= True, random_state = 0) \n",
    "lr =  LinearRegression(normalize = True)\n",
    "result = cross_val_predict(lr, multipred, multitarget, cv = kf)\n",
    "\n",
    "slope, intercept, r_value, p_value, std_err = stats.linregress(multitarget, result)\n",
    "\n",
    "#print(\"R^2: \", r_value**2)\n",
    "#print(\"RMSE: \", mean_squared_error(multitarget, result)**(1/2.0))\n",
    "#print(\"MAE: \", mean_absolute_error(multitarget, result))\n",
    "#print(\"CC: \", np.corrcoef(result, multitarget)[1][0])"
   ]
  },
  {
   "cell_type": "markdown",
   "metadata": {},
   "source": [
    "# 3) Ranking the Leagues by Ease of Prediction\n",
    "Fans of soccer know that certain leagues are easier to predict than others. For example, the Spanish La Liga is notoriously top-heavy, with Real Madrid and Barcelona dominating the league for the last few decades. We will now use "
   ]
  },
  {
   "cell_type": "code",
   "execution_count": null,
   "metadata": {
    "collapsed": false
   },
   "outputs": [],
   "source": [
    "england_matches.columns.values"
   ]
  },
  {
   "cell_type": "code",
   "execution_count": null,
   "metadata": {
    "collapsed": true
   },
   "outputs": [],
   "source": []
  }
 ],
 "metadata": {
  "anaconda-cloud": {},
  "kernelspec": {
   "display_name": "Python 2",
   "language": "python",
   "name": "python2"
  },
  "language_info": {
   "codemirror_mode": {
    "name": "ipython",
    "version": 2
   },
   "file_extension": ".py",
   "mimetype": "text/x-python",
   "name": "python",
   "nbconvert_exporter": "python",
   "pygments_lexer": "ipython2",
   "version": "2.7.9"
  }
 },
 "nbformat": 4,
 "nbformat_minor": 0
}
