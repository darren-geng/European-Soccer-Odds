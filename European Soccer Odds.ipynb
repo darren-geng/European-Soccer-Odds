{
 "cells": [
  {
   "cell_type": "markdown",
   "metadata": {},
   "source": [
    "# Imports\n",
    "Imports required libraries"
   ]
  },
  {
   "cell_type": "code",
   "execution_count": 19,
   "metadata": {
    "collapsed": false
   },
   "outputs": [],
   "source": [
    "from __future__ import print_function, division\n",
    "import os\n",
    "import numpy as np\n",
    "from scipy import stats\n",
    "import matplotlib.pyplot as plt\n",
    "import seaborn as sns\n",
    "import pandas as pd\n",
    "import numpy as np\n",
    "import sklearn as sklearn\n",
    "from datetime import datetime\n",
    "from sklearn.cross_validation import train_test_split, KFold, cross_val_predict\n",
    "from sklearn.linear_model import LinearRegression, LogisticRegression, LogisticRegressionCV\n",
    "from sklearn.metrics import mean_squared_error\n",
    "from sklearn.metrics import mean_absolute_error\n",
    "from sklearn.dummy import DummyClassifier\n",
    "from sklearn.svm import LinearSVC, SVC\n",
    "from sklearn.model_selection import cross_val_score\n",
    "from numpy import random\n",
    "import sqlite3\n",
    "%matplotlib inline"
   ]
  },
  {
   "cell_type": "markdown",
   "metadata": {},
   "source": [
    "# 1) Description of the dataset\n",
    "The initial database has four tables: Countries, leagues, teams, team_atts, matches, players, player_atts.\n",
    "\n",
    "Countries - The country_id for each match (which country the match took place in)\n",
    "\n",
    "Leagues - The league_id for each match (as each country only has one league in this set, this is identical to country_id and not needed).\n",
    "\n",
    "Teams - Contains the id, team_api_id, team_fifa_api_id, and name of each team. The team_fifa_api_id is what the id of each team is in the FIFA games (where player/team statistics are pulled from).\n",
    "\n",
    "Team_atts - Contains attributes about each team: their playstyle, offense, defense, etc.\n",
    "\n",
    "Matches - This contains the bulk of the data that we want. Contains information about: who the home/away team are, which league the game took place in, which season, the data, player statistics, and betting data.\n",
    "\n",
    "Players - Contains information about each player: their id, age, team, stature\n",
    "\n",
    "Player_atts - Has information on the attributes of each player: their skills, strengths, weaknesses, but most importantly their player rating.\n",
    "\n",
    "--A side note, teams and players contain both a FIFA and non-FIFA key. Matches are joined to them by non-FIFA key.--"
   ]
  },
  {
   "cell_type": "markdown",
   "metadata": {},
   "source": [
    "We will now read-in the tables from the sqlite database."
   ]
  },
  {
   "cell_type": "code",
   "execution_count": 2,
   "metadata": {
    "collapsed": false
   },
   "outputs": [],
   "source": [
    "with sqlite3.connect('database.sqlite') as con:\n",
    "    countries = pd.read_sql_query(\"SELECT * from Country\", con)\n",
    "    matches = pd.read_sql_query(\"SELECT * from Match\", con)\n",
    "    players = pd.read_sql_query(\"SELECT * from Player\", con)\n",
    "    player_atts = pd.read_sql_query(\"SELECT * from Player_Attributes\", con)\n",
    "    team_atts = pd.read_sql_query(\"SELECT * from Team_Attributes\", con)\n",
    "    teams = pd.read_sql_query(\"SELECT * from Team\", con)\n"
   ]
  },
  {
   "cell_type": "markdown",
   "metadata": {},
   "source": [
    "For now, we will currently only be examining betting data from bet365. Many of the betting sites included in the dataset are missing betting data on a large portion of the matches and bet365 has by far the most.\n",
    "\n",
    "We will also drop attributes that will not be useful for what we want yet; these attributes are generally ingame statistics of the matches in general.\n",
    "\n",
    "`league_id` is also dropped because we are not using the leagues table."
   ]
  },
  {
   "cell_type": "code",
   "execution_count": 3,
   "metadata": {
    "collapsed": false
   },
   "outputs": [],
   "source": [
    "# Drops unneeded attributes\n",
    "atts_to_drop = ['BWH', 'BWD', 'BWA', 'IWH', 'IWD', 'IWA', 'LBH', 'LBD', 'LBA', 'GBD',\n",
    "               'PSH', 'PSD', 'PSA', 'WHH', 'WHA', 'WHD', 'SJH', 'SJD', 'SJA', 'VCH',\n",
    "               'VCD', 'VCA', 'GBH', 'GBA', 'BSH', 'BSD', 'BSA', 'shoton', 'goal', 'shotoff',\n",
    "               'foulcommit', 'card', 'cross', 'corner', 'possession', 'league_id']\n",
    "matches = matches.drop(atts_to_drop, axis=1) \n",
    "# Drops player formation values\n",
    "matches = matches.drop(matches.columns[10:54], axis=1)\n",
    "\n",
    "# Drops null values\n",
    "matches = matches.dropna()\n",
    "players = players.dropna()\n",
    "player_atts = player_atts.dropna(subset = ['date', 'overall_rating', 'player_api_id'], axis = 0)\n",
    "team_atts = team_atts.dropna()\n",
    "\n",
    "# Replace home_team_goal and away_team_goal with home_win (0 = no, 1 = draw, 2 = yes)\n",
    "def find_winner(row):\n",
    "    if row['home_team_goal'] > row['away_team_goal']:\n",
    "        return 2\n",
    "    if row['home_team_goal'] == row['away_team_goal']:\n",
    "        return 1\n",
    "    if row['home_team_goal'] < row['away_team_goal']:\n",
    "        return 0\n",
    "    \n",
    "matches.insert(9, 'match_result', -1)\n",
    "matches['match_result'] = matches.apply(lambda x: find_winner(x), axis = 1)\n",
    "matches = matches.drop(['home_team_goal', 'away_team_goal'], axis = 1)\n"
   ]
  },
  {
   "cell_type": "markdown",
   "metadata": {},
   "source": [
    "Now, we separate matches by country."
   ]
  },
  {
   "cell_type": "code",
   "execution_count": 4,
   "metadata": {
    "collapsed": false,
    "scrolled": true
   },
   "outputs": [],
   "source": [
    "england_matches = matches[(matches['country_id'] == 1729)]\n",
    "france_matches = matches[(matches['country_id'] == 4769)]\n",
    "germany_matches = matches[(matches['country_id'] == 7809)]\n",
    "italy_matches = matches[(matches['country_id'] == 10257)]\n",
    "netherlands_matches = matches[(matches['country_id'] == 13274)]\n",
    "spain_matches = matches[(matches['country_id'] == 21518)]"
   ]
  },
  {
   "cell_type": "markdown",
   "metadata": {},
   "source": [
    "Convert dates into datetime objects"
   ]
  },
  {
   "cell_type": "code",
   "execution_count": 5,
   "metadata": {
    "collapsed": false
   },
   "outputs": [],
   "source": [
    "matches['date'] = matches['date'].apply(lambda x: datetime.strptime(x, '%Y-%m-%d %X'))\n",
    "player_atts['date'] = player_atts['date'].apply(lambda x: datetime.strptime(x, '%Y-%m-%d %X'))"
   ]
  },
  {
   "cell_type": "markdown",
   "metadata": {},
   "source": [
    "We will take the dates and append the players' player_id with them (to make it easier to process), as player_atts contains different player rating values for each date they play."
   ]
  },
  {
   "cell_type": "code",
   "execution_count": 6,
   "metadata": {
    "collapsed": false
   },
   "outputs": [],
   "source": [
    "#print(player_atts.loc[player_atts['player_api_id'] == 110189])\n",
    "#matches.loc[3630, h_a_players] = matches.loc[3630, h_a_players].map(lambda x: find_rating_by_date(player_atts.loc[(player_atts['player_api_id'] == x)], matches.loc[3630,'date']))"
   ]
  },
  {
   "cell_type": "code",
   "execution_count": 7,
   "metadata": {
    "collapsed": false
   },
   "outputs": [
    {
     "data": {
      "text/plain": [
       "<bound method DataFrame.head of           id  country_id     season  stage       date  match_api_id  \\\n",
       "145      146           1  2008/2009     24 2009-02-27        493017   \n",
       "153      154           1  2008/2009     25 2009-03-08        493025   \n",
       "155      156           1  2008/2009     25 2009-03-07        493027   \n",
       "162      163           1  2008/2009     26 2009-03-13        493034   \n",
       "168      169           1  2008/2009     26 2009-03-14        493040   \n",
       "173      174           1  2008/2009     27 2009-03-22        493045   \n",
       "176      177           1  2008/2009     27 2009-03-21        493048   \n",
       "189      190           1  2008/2009     29 2009-04-12        493061   \n",
       "190      191           1  2008/2009     29 2009-04-10        493062   \n",
       "219      220           1  2008/2009     31 2009-04-26        493082   \n",
       "226      227           1  2008/2009     32 2009-05-02        493089   \n",
       "229      230           1  2008/2009     32 2009-05-02        493092   \n",
       "231      232           1  2008/2009     32 2009-05-02        493094   \n",
       "234      235           1  2008/2009     33 2009-05-09        493097   \n",
       "240      241           1  2008/2009     33 2009-05-09        493103   \n",
       "242      243           1  2008/2009     33 2009-05-09        493105   \n",
       "243      244           1  2008/2009     34 2009-05-16        493106   \n",
       "244      245           1  2008/2009     34 2009-05-16        493107   \n",
       "308      309           1  2009/2010      1 2009-08-02        665321   \n",
       "309      310           1  2009/2010      1 2009-08-01        665322   \n",
       "310      311           1  2009/2010      1 2009-08-01        665323   \n",
       "313      314           1  2009/2010     10 2009-10-04        665411   \n",
       "317      318           1  2009/2010     10 2009-10-03        665417   \n",
       "319      320           1  2009/2010     10 2009-10-03        665421   \n",
       "320      321           1  2009/2010     11 2009-10-18        665425   \n",
       "322      323           1  2009/2010     11 2009-10-18        665427   \n",
       "323      324           1  2009/2010     11 2009-10-17        665429   \n",
       "324      325           1  2009/2010     11 2009-10-17        665430   \n",
       "326      327           1  2009/2010     11 2009-10-17        665435   \n",
       "327      328           1  2009/2010     12 2009-10-24        665438   \n",
       "...      ...         ...        ...    ...        ...           ...   \n",
       "24525  24526       21518  2015/2016      6 2015-09-27       2030140   \n",
       "24526  24527       21518  2015/2016      6 2015-09-27       2030141   \n",
       "24527  24528       21518  2015/2016      7 2015-10-03       2030142   \n",
       "24529  24530       21518  2015/2016      7 2015-10-02       2030144   \n",
       "24530  24531       21518  2015/2016      7 2015-10-04       2030145   \n",
       "24531  24532       21518  2015/2016      7 2015-10-04       2030146   \n",
       "24532  24533       21518  2015/2016      7 2015-10-03       2030147   \n",
       "24533  24534       21518  2015/2016      7 2015-10-04       2030148   \n",
       "24534  24535       21518  2015/2016      7 2015-10-03       2030149   \n",
       "24535  24536       21518  2015/2016      7 2015-10-03       2030150   \n",
       "24536  24537       21518  2015/2016      7 2015-10-04       2030151   \n",
       "24537  24538       21518  2015/2016      8 2015-10-17       2030152   \n",
       "24538  24539       21518  2015/2016      8 2015-10-17       2030153   \n",
       "24540  24541       21518  2015/2016      8 2015-10-18       2030155   \n",
       "24541  24542       21518  2015/2016      8 2015-10-17       2030156   \n",
       "24542  24543       21518  2015/2016      8 2015-10-18       2030157   \n",
       "24543  24544       21518  2015/2016      8 2015-10-17       2030158   \n",
       "24544  24545       21518  2015/2016      8 2015-10-18       2030159   \n",
       "24545  24546       21518  2015/2016      8 2015-10-19       2030160   \n",
       "24546  24547       21518  2015/2016      8 2015-10-17       2030161   \n",
       "24547  24548       21518  2015/2016      9 2015-10-25       2030162   \n",
       "24548  24549       21518  2015/2016      9 2015-10-24       2030163   \n",
       "24549  24550       21518  2015/2016      9 2015-10-25       2030164   \n",
       "24550  24551       21518  2015/2016      9 2015-10-24       2030165   \n",
       "24551  24552       21518  2015/2016      9 2015-10-25       2030166   \n",
       "24552  24553       21518  2015/2016      9 2015-10-25       2030167   \n",
       "24553  24554       21518  2015/2016      9 2015-10-24       2030168   \n",
       "24554  24555       21518  2015/2016      9 2015-10-26       2030169   \n",
       "24555  24556       21518  2015/2016      9 2015-10-24       2030170   \n",
       "24556  24557       21518  2015/2016      9 2015-10-23       2030171   \n",
       "\n",
       "       home_team_api_id  away_team_api_id  match_result  home_player_1  ...    \\\n",
       "145                8203              9987             2           58.0  ...     \n",
       "153                9984              8342             0           64.0  ...     \n",
       "155                8635             10000             2           67.0  ...     \n",
       "162                8203              8635             2           61.0  ...     \n",
       "168               10000              9999             1           61.0  ...     \n",
       "173                9991             10000             2           71.0  ...     \n",
       "176                9999              8203             2           64.0  ...     \n",
       "189                8635              8342             2           67.0  ...     \n",
       "190                9999              9987             2           64.0  ...     \n",
       "219                9999              9991             0           64.0  ...     \n",
       "226               10000              9985             1           61.0  ...     \n",
       "229                9991              9984             2           71.0  ...     \n",
       "231               10001              9999             2           67.0  ...     \n",
       "234                9985              8342             2           63.0  ...     \n",
       "240                8635              9999             2           67.0  ...     \n",
       "242                9984             10001             2           62.0  ...     \n",
       "243                9987              8635             0           62.0  ...     \n",
       "244                9991              9985             0           71.0  ...     \n",
       "308                9984              9991             0           64.0  ...     \n",
       "309                9994             10000             1           73.0  ...     \n",
       "310                8571              8635             0           64.0  ...     \n",
       "313                8342              8635             2           73.0  ...     \n",
       "317                8203              9994             2           70.0  ...     \n",
       "319                9993             10001             2           64.0  ...     \n",
       "320                8342              9991             2           73.0  ...     \n",
       "322                9987              8203             0           64.0  ...     \n",
       "323               10000              9993             2           67.0  ...     \n",
       "324                9994              9984             1           73.0  ...     \n",
       "326               10001              9985             2           67.0  ...     \n",
       "327                9985             10000             1           63.0  ...     \n",
       "...                 ...               ...           ...            ...  ...     \n",
       "24525              9783              8558             2           76.0  ...     \n",
       "24526              9869              8603             0           70.0  ...     \n",
       "24527              8302              8634             2           75.0  ...     \n",
       "24529              9910              8305             1           76.0  ...     \n",
       "24530              8581             10205             2           75.0  ...     \n",
       "24531              9906              8633             1           81.0  ...     \n",
       "24532              9864              8560             2           79.0  ...     \n",
       "24533              8315             10267             2           79.0  ...     \n",
       "24534              7878              9783             1           77.0  ...     \n",
       "24535              8558              9869             0           70.0  ...     \n",
       "24536              8370              8603             0           75.0  ...     \n",
       "24537              8634              8370             2           83.0  ...     \n",
       "24538              8372              8302             1           71.0  ...     \n",
       "24540             10205              9910             0           76.0  ...     \n",
       "24541              8633              8581             2           79.0  ...     \n",
       "24542              8560              9906             0           79.0  ...     \n",
       "24543             10267              9864             2           72.0  ...     \n",
       "24544              9783              8315             1           76.0  ...     \n",
       "24545              9869              7878             1           70.0  ...     \n",
       "24546              8603              8558             0           77.0  ...     \n",
       "24547              8634              8372             2           83.0  ...     \n",
       "24548              8302              8305             2           75.0  ...     \n",
       "24549              8306             10205             1           75.0  ...     \n",
       "24550              9910              8633             0           76.0  ...     \n",
       "24551              8581              8560             0           75.0  ...     \n",
       "24552              9906             10267             2           81.0  ...     \n",
       "24553              9864              9783             2           79.0  ...     \n",
       "24554              8315              9869             2           79.0  ...     \n",
       "24555              7878              8603             1           77.0  ...     \n",
       "24556              8370              8558             2           75.0  ...     \n",
       "\n",
       "       away_player_5  away_player_6  away_player_7  away_player_8  \\\n",
       "145             54.0           72.0           67.0           65.0   \n",
       "153             66.0           70.0           69.0           68.0   \n",
       "155             49.0           64.0           69.0           66.0   \n",
       "162             67.0           75.0           70.0           77.0   \n",
       "168             60.0           58.0           65.0           60.0   \n",
       "173             49.0           69.0           66.0           64.0   \n",
       "176             50.0           66.0           64.0           58.0   \n",
       "189             69.0           70.0           71.0           68.0   \n",
       "190             63.0           64.0           67.0           63.0   \n",
       "219             65.0           69.0           67.0           69.0   \n",
       "226             71.0           71.0           76.0           75.0   \n",
       "229             63.0           66.0           68.0           67.0   \n",
       "231             65.0           60.0           60.0           60.0   \n",
       "234             66.0           70.0           71.0           68.0   \n",
       "240             60.0           58.0           65.0           60.0   \n",
       "242             64.0           63.0           63.0           63.0   \n",
       "243             72.0           75.0           74.0           70.0   \n",
       "244             59.0           71.0           68.0           76.0   \n",
       "308             66.0           69.0           69.0           65.0   \n",
       "309             64.0           66.0           67.0           69.0   \n",
       "310             73.0           70.0           77.0           74.0   \n",
       "313             70.0           70.0           77.0           74.0   \n",
       "317             64.0           68.0           64.0           64.0   \n",
       "319             63.0           63.0           64.0           60.0   \n",
       "320             65.0           69.0           65.0           71.0   \n",
       "322             55.0           66.0           64.0           62.0   \n",
       "323             64.0           69.0           72.0           64.0   \n",
       "324             65.0           70.0           68.0           64.0   \n",
       "326             66.0           76.0           76.0           74.0   \n",
       "327             63.0           65.0           69.0           71.0   \n",
       "...              ...            ...            ...            ...   \n",
       "24525           71.0           75.0           77.0           76.0   \n",
       "24526           71.0           74.0           75.0           74.0   \n",
       "24527           84.0           84.0           86.0           83.0   \n",
       "24529           70.0           74.0           72.0           77.0   \n",
       "24530           75.0           78.0           78.0           69.0   \n",
       "24531           83.0           87.0           77.0           87.0   \n",
       "24532           78.0           79.0           77.0           82.0   \n",
       "24533           76.0           80.0           82.0           81.0   \n",
       "24534           76.0           75.0           76.0           77.0   \n",
       "24535           72.0           74.0           75.0           77.0   \n",
       "24536           71.0           74.0           71.0           75.0   \n",
       "24537           76.0           71.0           80.0           77.0   \n",
       "24538           81.0           82.0           79.0           81.0   \n",
       "24540           76.0           77.0           79.0           77.0   \n",
       "24541           73.0           74.0           75.0           72.0   \n",
       "24542           82.0           77.0           81.0           80.0   \n",
       "24543           74.0           64.0           81.0           74.0   \n",
       "24544           79.0           80.0           80.0           75.0   \n",
       "24545           73.0           75.0           70.0           76.0   \n",
       "24546           71.0           77.0           74.0           75.0   \n",
       "24547           70.0           71.0           74.0           72.0   \n",
       "24548           74.0           76.0           74.0           78.0   \n",
       "24549           77.0           78.0           78.0           81.0   \n",
       "24550           83.0           87.0           77.0           87.0   \n",
       "24551           71.0           76.0           79.0           82.0   \n",
       "24552           80.0           82.0           79.0           77.0   \n",
       "24553           75.0           75.0           77.0           76.0   \n",
       "24554           73.0           71.0           75.0           73.0   \n",
       "24555           71.0           79.0           75.0           71.0   \n",
       "24556           71.0           76.0           77.0           74.0   \n",
       "\n",
       "       away_player_9  away_player_10  away_player_11  B365H  B365D  B365A  \n",
       "145             70.0            68.0            63.0   3.00   3.40   2.30  \n",
       "153             67.0            73.0            68.0   2.80   3.20   2.37  \n",
       "155             55.0            58.0            64.0   1.40   4.50   8.00  \n",
       "162             74.0            70.0            69.0   4.50   3.60   1.75  \n",
       "168             60.0            63.0            65.0   1.75   3.50   4.75  \n",
       "173             55.0            58.0            56.0   1.65   3.60   4.75  \n",
       "176             60.0            64.0            63.0   2.20   3.30   3.00  \n",
       "189             66.0            73.0            68.0   1.67   3.50   5.00  \n",
       "190             68.0            72.0            63.0   3.20   3.25   2.25  \n",
       "219             78.0            70.0            68.0   3.20   3.30   2.10  \n",
       "226             65.0            76.0            56.0   5.50   3.60   1.57  \n",
       "229             62.0            67.0            64.0   1.36   4.33   7.50  \n",
       "231             65.0            56.0            57.0   1.57   3.60   5.50  \n",
       "234             66.0            68.0            65.0   1.44   4.33   7.00  \n",
       "240             60.0            56.0            65.0   1.14   7.50  19.00  \n",
       "242             69.0            64.0            68.0   2.62   3.30   2.62  \n",
       "243             71.0            77.0            69.0   8.00   4.00   1.40  \n",
       "244             75.0            76.0            74.0   4.33   3.80   1.67  \n",
       "308             68.0            70.0            69.0   2.88   3.30   2.25  \n",
       "309             71.0            63.0            64.0   2.30   3.30   2.88  \n",
       "310             70.0            73.0            72.0   5.75   3.60   1.57  \n",
       "313             61.0            73.0            66.0   2.50   3.25   2.60  \n",
       "317             69.0            66.0            67.0   1.91   3.30   4.20  \n",
       "319             59.0            63.0            64.0   1.73   3.50   5.00  \n",
       "320             68.0            70.0            69.0   1.70   3.40   4.75  \n",
       "322             65.0            67.0            64.0   1.85   3.30   4.00  \n",
       "323             68.0            69.0            56.0   1.91   3.30   3.80  \n",
       "324             66.0            66.0            65.0   2.10   3.20   3.30  \n",
       "326             68.0            65.0            77.0   5.50   3.50   1.60  \n",
       "327             65.0            63.0            63.0   1.50   4.00   7.00  \n",
       "...              ...             ...             ...    ...    ...    ...  \n",
       "24525           73.0            78.0            75.0   2.10   3.30   3.75  \n",
       "24526           79.0            75.0            79.0   2.30   3.20   3.30  \n",
       "24527           73.0            90.0            88.0   4.00   3.60   1.91  \n",
       "24529           76.0            74.0            74.0   1.44   4.50   7.50  \n",
       "24530           79.0            79.0            70.0   4.33   3.40   1.91  \n",
       "24531           84.0            86.0            93.0   3.20   3.30   2.30  \n",
       "24532           79.0            75.0            76.0   2.38   3.10   3.30  \n",
       "24533           80.0            73.0            81.0   2.30   3.30   3.20  \n",
       "24534           73.0            74.0            78.0   2.60   3.20   2.80  \n",
       "24535           77.0            70.0            72.0   2.00   3.30   4.00  \n",
       "24536           75.0            72.0            79.0   2.20   3.50   3.20  \n",
       "24537           75.0            72.0            73.0   1.14   9.00  15.00  \n",
       "24538           81.0            79.0            79.0   3.60   3.40   2.10  \n",
       "24540           79.0            78.0            82.0   2.00   3.50   3.75  \n",
       "24541           75.0            71.0            76.0   1.08  12.00  23.00  \n",
       "24542           83.0            84.0            83.0   4.00   3.20   2.05  \n",
       "24543           73.0            72.0            75.0   1.62   3.75   6.00  \n",
       "24544           81.0            78.0            82.0   2.70   3.10   2.80  \n",
       "24545           74.0            73.0            75.0   2.00   3.20   4.20  \n",
       "24546           73.0            76.0            78.0   2.00   3.30   4.00  \n",
       "24547           74.0            74.0            72.0   1.11  10.00  19.00  \n",
       "24548           77.0            76.0            71.0   1.44   4.33   8.00  \n",
       "24549           77.0            70.0            76.0   3.50   3.25   2.20  \n",
       "24550           76.0            93.0            78.0   3.80   3.80   1.91  \n",
       "24551           77.0            75.0            76.0   2.63   3.20   2.80  \n",
       "24552           80.0            79.0            75.0   1.57   3.80   6.50  \n",
       "24553           74.0            73.0            78.0   2.25   3.25   3.40  \n",
       "24554           76.0            77.0            72.0   1.53   4.00   7.00  \n",
       "24555           75.0            72.0            79.0   2.30   3.25   3.25  \n",
       "24556           75.0            73.0            78.0   2.20   3.40   3.20  \n",
       "\n",
       "[19691 rows x 34 columns]>"
      ]
     },
     "execution_count": 7,
     "metadata": {},
     "output_type": "execute_result"
    }
   ],
   "source": [
    "h_a_players = ['home_player_1', 'home_player_2', 'home_player_3', 'home_player_4', 'home_player_5',\n",
    "          'home_player_6', 'home_player_7', 'home_player_8', 'home_player_9', 'home_player_10', 'home_player_11',\n",
    "          'away_player_1', 'away_player_2', 'away_player_3', 'away_player_4', 'away_player_5', 'away_player_6',\n",
    "          'away_player_7', 'away_player_8', 'away_player_9', 'away_player_10', 'away_player_11']\n",
    "\n",
    "def process_row(row):\n",
    "    matches.loc[row.name, h_a_players] = row[h_a_players].map(lambda x: find_rating_by_date(player_atts.loc[(player_atts['player_api_id'] == x)], row['date']))\n",
    "def find_rating_by_date(rows, date):\n",
    "    nearest_date = nearest(rows['date'], date) #The date we will use for the player ratings\n",
    "    n = rows.loc[rows['date'] == nearest_date]['overall_rating']\n",
    "    return rows.loc[rows['date'] == nearest_date]['overall_rating']\n",
    "def nearest(items, pivot):\n",
    "    return min(items, key=lambda x: abs(x-pivot))\n",
    "matches.apply(lambda x: process_row(x), axis = 1)\n",
    "matches.head"
   ]
  },
  {
   "cell_type": "markdown",
   "metadata": {},
   "source": [
    "# 3) Betting Analysis"
   ]
  },
  {
   "cell_type": "code",
   "execution_count": 8,
   "metadata": {
    "collapsed": false
   },
   "outputs": [
    {
     "name": "stdout",
     "output_type": "stream",
     "text": [
      "R^2:  0.0222088554614\n",
      "RMSE:  1.67900599579\n",
      "MAE:  1.16370610022\n",
      "CC:  0.149026358277\n"
     ]
    },
    {
     "name": "stderr",
     "output_type": "stream",
     "text": [
      "/usr/local/lib/python2.7/site-packages/scipy/linalg/basic.py:884: RuntimeWarning: internal gelsd driver lwork query error, required iwork dimension not returned. This is likely the result of LAPACK bug 0038, fixed in LAPACK 3.2.2 (released July 21, 2010). Falling back to 'gelss' driver.\n",
      "  warnings.warn(mesg, RuntimeWarning)\n"
     ]
    }
   ],
   "source": [
    "multipred = england_matches.drop(['date','season','B365H', 'B365A', 'B365D', 'match_result', 'country_id', 'id', 'match_api_id'], axis=1)\n",
    "multitarget = england_matches['B365H']\n",
    "kf = KFold(multitarget.size, n_folds = 10, shuffle= True, random_state = 0) \n",
    "lr =  LinearRegression(normalize = True)\n",
    "\n",
    "result = cross_val_predict(lr, multipred, multitarget, cv = kf)\n",
    "\n",
    "slope, intercept, r_value, p_value, std_err = stats.linregress(multitarget, result)\n",
    "\n",
    "print(\"R^2: \", r_value**2)\n",
    "print(\"RMSE: \", mean_squared_error(multitarget, result)**(1/2.0))\n",
    "print(\"MAE: \", mean_absolute_error(multitarget, result))\n",
    "print(\"CC: \", np.corrcoef(result, multitarget)[1][0])"
   ]
  },
  {
   "cell_type": "markdown",
   "metadata": {},
   "source": [
    "# 3) Win Analysis\n",
    "Fans of soccer know that certain leagues are easier to predict than others. For example, the Spanish La Liga is notoriously top-heavy, with Real Madrid and Barcelona dominating the league for the last few decades. We will now use "
   ]
  },
  {
   "cell_type": "code",
   "execution_count": 9,
   "metadata": {
    "collapsed": false
   },
   "outputs": [
    {
     "name": "stdout",
     "output_type": "stream",
     "text": [
      "Baseline classification accuracy of English matches: 0.455436\n",
      "Baseline classification accuracy of Spanish matches: 0.484848\n",
      "Baseline classification accuracy of German matches: 0.453895\n",
      "Baseline classification accuracy of Italian matches: 0.465524\n"
     ]
    }
   ],
   "source": [
    "y_tr_eng = england_matches['match_result']\n",
    "X_tr_eng = england_matches.drop(['match_result', 'date', 'season', 'B365H', 'B365A', 'B365D', 'match_result', 'country_id', 'id', 'match_api_id'], axis=1)\n",
    "y_tr_spa = spain_matches['match_result']\n",
    "X_tr_spa = spain_matches.drop(['match_result', 'date', 'season', 'B365H', 'B365A', 'B365D', 'match_result', 'country_id', 'id', 'match_api_id'], axis=1)\n",
    "y_tr_ger = germany_matches['match_result']\n",
    "X_tr_ger = germany_matches.drop(['match_result', 'date', 'season', 'B365H', 'B365A', 'B365D', 'match_result', 'country_id', 'id', 'match_api_id'], axis=1)\n",
    "y_tr_ita = italy_matches['match_result']\n",
    "X_tr_ita = italy_matches.drop(['match_result', 'date', 'season', 'B365H', 'B365A', 'B365D', 'match_result', 'country_id', 'id', 'match_api_id'], axis=1)\n",
    "\n",
    "\n",
    "sets = zip([('English', X_tr_eng, y_tr_eng), ('Spanish', X_tr_spa, y_tr_spa),\n",
    "            ('German', X_tr_ger, y_tr_ger), ('Italian', X_tr_ita, y_tr_ita)])\n",
    "\n",
    "\n",
    "dc_eng = DummyClassifier(strategy = 'most_frequent')\n",
    "dc_spa = DummyClassifier(strategy = 'most_frequent')\n",
    "dc_ger = DummyClassifier(strategy = 'most_frequent')\n",
    "dc_ita = DummyClassifier(strategy = 'most_frequent')\n",
    "\n",
    "dc_eng.fit(X_tr_eng, y_tr_eng)\n",
    "print(\"Baseline classification accuracy of English matches: %f\" % (dc_eng.score(X_tr_eng, y_tr_eng)))\n",
    "dc_spa.fit(X_tr_spa, y_tr_spa)\n",
    "print(\"Baseline classification accuracy of Spanish matches: %f\" % (dc_spa.score(X_tr_spa, y_tr_spa)))\n",
    "dc_ger.fit(X_tr_ger, y_tr_ger)\n",
    "print(\"Baseline classification accuracy of German matches: %f\" % (dc_ger.score(X_tr_ger, y_tr_ger)))\n",
    "dc_ita.fit(X_tr_ita, y_tr_ita)\n",
    "print(\"Baseline classification accuracy of Italian matches: %f\" % (dc_ita.score(X_tr_ita, y_tr_ita)))\n",
    "\n",
    "\n"
   ]
  },
  {
   "cell_type": "code",
   "execution_count": 12,
   "metadata": {
    "collapsed": false
   },
   "outputs": [
    {
     "name": "stdout",
     "output_type": "stream",
     "text": [
      "Classification accuracy of Logistic Regression on English matches: 0.461850\n",
      "Classification accuracy of Logistic Regression on Spanish matches: 0.506652\n",
      "Classification accuracy of Logistic Regression on German matches: 0.464421\n",
      "Classification accuracy of Logistic Regression on Italian matches: 0.479387\n"
     ]
    }
   ],
   "source": [
    "kf_eng = KFold(X_tr_eng.index.size, n_folds = 10, shuffle=True, random_state = 0)\n",
    "kf_spa = KFold(X_tr_spa.index.size, n_folds = 10, shuffle=True, random_state = 0)\n",
    "kf_ger = KFold(X_tr_ger.index.size, n_folds = 10, shuffle=True, random_state = 0)\n",
    "kf_ita = KFold(X_tr_ita.index.size, n_folds = 10, shuffle=True, random_state = 0)\n",
    "\n",
    "c_space = np.logspace(-5, 5, 20)\n",
    "lorc_eng = LogisticRegressionCV(Cs = c_space, cv = kf_eng, solver='lbfgs')\n",
    "lorc_eng.fit(X_tr_eng, y_tr_eng)\n",
    "print(\"Classification accuracy of Logistic Regression on English matches: %f\" % (lorc_eng.score(X_tr_eng, y_tr_eng)))\n",
    "lorc_spa = LogisticRegressionCV(Cs = c_space, cv = kf_spa, solver='lbfgs')\n",
    "lorc_spa.fit(X_tr_spa, y_tr_spa)\n",
    "print(\"Classification accuracy of Logistic Regression on Spanish matches: %f\" % (lorc_spa.score(X_tr_spa, y_tr_spa)))\n",
    "lorc_ger = LogisticRegressionCV(Cs = c_space, cv = kf_ger, solver='lbfgs')\n",
    "lorc_ger.fit(X_tr_ger, y_tr_ger)\n",
    "print(\"Classification accuracy of Logistic Regression on German matches: %f\" % (lorc_ger.score(X_tr_ger, y_tr_ger)))\n",
    "lorc_ita = LogisticRegressionCV(Cs = c_space, cv = kf_ita, solver='lbfgs')\n",
    "lorc_ita.fit(X_tr_ita, y_tr_ita)\n",
    "print(\"Classification accuracy of Logistic Regression on Italian matches: %f\" % (lorc_ita.score(X_tr_ita, y_tr_ita)))"
   ]
  },
  {
   "cell_type": "markdown",
   "metadata": {},
   "source": [
    "The logistic regression model performs negligibly better than the baseline classifier on the training set. Spanish matches, however, seem to be noticeably easier to predict (both in baseline and in logistic classifications)"
   ]
  },
  {
   "cell_type": "code",
   "execution_count": 25,
   "metadata": {
    "collapsed": false
   },
   "outputs": [
    {
     "name": "stdout",
     "output_type": "stream",
     "text": [
      "Classification accuracy of RBF SVC on English matches: 0.455434\n",
      "Classification accuracy of RBF SVC on Spanish matches: 0.484823\n",
      "Classification accuracy of RBF SVC on German matches: 0.453877\n",
      "Classification accuracy of RBF SVC on Italian matches: 0.465520\n"
     ]
    }
   ],
   "source": [
    "eng_rbf = SVC(kernel = 'rbf')\n",
    "spa_rbf = SVC(kernel = 'rbf')\n",
    "ger_rbf = SVC(kernel = 'rbf')\n",
    "ita_rbf = SVC(kernel = 'rbf')\n",
    "\n",
    "\n",
    "print(\"Classification accuracy of RBF SVC on English matches: %f\" % (np.mean(cross_val_score(eng_rbf, X_tr_eng, y_tr_eng, cv=kf_eng))))\n",
    "print(\"Classification accuracy of RBF SVC on Spanish matches: %f\" % (np.mean(cross_val_score(spa_rbf, X_tr_spa, y_tr_spa, cv=kf_spa))))\n",
    "print(\"Classification accuracy of RBF SVC on German matches: %f\" % (np.mean(cross_val_score(ger_rbf, X_tr_ger, y_tr_ger, cv=kf_ger))))\n",
    "print(\"Classification accuracy of RBF SVC on Italian matches: %f\" % (np.mean(cross_val_score(ita_rbf, X_tr_ita, y_tr_ita, cv=kf_ita))))"
   ]
  },
  {
   "cell_type": "markdown",
   "metadata": {},
   "source": [
    "RBF-kernel SVCs perform even worse than logistic regression, and approximately as well as the baseline estimator does."
   ]
  },
  {
   "cell_type": "code",
   "execution_count": null,
   "metadata": {
    "collapsed": true
   },
   "outputs": [],
   "source": []
  },
  {
   "cell_type": "code",
   "execution_count": null,
   "metadata": {
    "collapsed": true
   },
   "outputs": [],
   "source": []
  }
 ],
 "metadata": {
  "anaconda-cloud": {},
  "kernelspec": {
   "display_name": "Python 2",
   "language": "python",
   "name": "python2"
  },
  "language_info": {
   "codemirror_mode": {
    "name": "ipython",
    "version": 2
   },
   "file_extension": ".py",
   "mimetype": "text/x-python",
   "name": "python",
   "nbconvert_exporter": "python",
   "pygments_lexer": "ipython2",
   "version": "2.7.12"
  }
 },
 "nbformat": 4,
 "nbformat_minor": 0
}
